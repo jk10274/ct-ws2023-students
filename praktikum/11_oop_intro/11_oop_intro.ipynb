{
 "cells": [
  {
   "attachments": {},
   "cell_type": "markdown",
   "id": "82cbfefd",
   "metadata": {
    "deletable": false,
    "editable": false
   },
   "source": [
    "# Computational Thinking WS2023/24\n",
    "\n",
    "**Autoren:** \n",
    "+ Dr. Benedikt Zönnchen \n",
    "+ Prof. Martin Hobelsberger\n",
    "+ Prof. Benedikt Dietrich"
   ]
  },
  {
   "cell_type": "markdown",
   "id": "df0876ed",
   "metadata": {
    "deletable": false,
    "editable": false
   },
   "source": [
    "***Aufgabe 1 (Klassen und Objekte).*** Erstellen Sie eine *Klasse* Ihrer Wahl.\n",
    "Diese Klasse sollte mindestens zwei *Attribute* und zwei *Methoden* beinhalten.\n",
    "Erzeugen Sie mehrere *Objekte* Ihrer *Klasse*."
   ]
  },
  {
   "cell_type": "code",
   "execution_count": null,
   "id": "2c267446",
   "metadata": {
    "tags": []
   },
   "outputs": [],
   "source": [
    "..."
   ]
  },
  {
   "cell_type": "markdown",
   "id": "a2547b8e",
   "metadata": {
    "deletable": false,
    "editable": false
   },
   "source": [
    "***Aufgabe 2 (Klassen und Objekte).*** Erklären Sie in Ihren Worten den Unterschied zwischen einer Klasse und einem Objekt."
   ]
  },
  {
   "cell_type": "markdown",
   "id": "ea8b541c",
   "metadata": {
    "deletable": false,
    "editable": false
   },
   "source": [
    "***Aufgabe 3 (Klassen und Objekte).*** Folgender Code modelliert Rechtecke und Punkte und implementiert eine Funktion ``contains`` welche prüft ob sich ein Punkt innerhalb eines Rechtecks befindet. Wandeln Sie den Code in einen *objekt-orientierten* Code um. \n",
    "\n",
    "1. Erstellen Sie eine Klasse ``Rectangle`` mit *Attributen* ``x``, ``y``, ``width`` und ``height`` und einer Funktion ``contains``\n",
    "2. Erstellen Sie eine Klasse ``Point`` mit *Attributen* ``x``, ``y``\n",
    "3. Initialisieren Sie die Member-Variablen im Konstruktor\n",
    "4. Lassen Sie sich vom CS50-Chatbot ([Link](https://cs50.ai/chat)) erklären, für was die ``__str__``-Member-Methode ist. Realisieren Sie die Methode für beide Klassen."
   ]
  },
  {
   "cell_type": "code",
   "execution_count": null,
   "id": "3f057da3",
   "metadata": {
    "deletable": false,
    "editable": false
   },
   "outputs": [],
   "source": [
    "def contains(rect, point):\n",
    "    if point[0] < rect['x'] or point[1] < rect['y']:\n",
    "        return False\n",
    "    if point[0] > rect['x'] + rect['width'] or point[1] > rect['y'] + rect['height']:\n",
    "        return False\n",
    "    return True\n",
    "\n",
    "point1 = (31, 41)\n",
    "point2 = (-3, 50)\n",
    "rect = dict(x=10, y=12, width=100, height=30)\n",
    "print(contains(rect, point1))\n",
    "print(contains(rect, point2))"
   ]
  },
  {
   "cell_type": "code",
   "execution_count": null,
   "id": "75f00ffa",
   "metadata": {
    "scrolled": true,
    "tags": []
   },
   "outputs": [],
   "source": [
    "class Rectangle():\n",
    "    ...\n",
    "\n",
    "class Point():\n",
    "    ...\n",
    "\n",
    "rect = Rectangle(x=10, y=12, width=100, height=30)\n",
    "print(rect)\n",
    "\n",
    "point1 = Point(31, 41)\n",
    "point2 = Point(-3, 50)\n",
    "print(point1)\n",
    "print(point2)\n",
    "\n",
    "print(rect.contains(point1))\n",
    "print(rect.contains(point2))"
   ]
  },
  {
   "cell_type": "markdown",
   "id": "4a63dafe",
   "metadata": {
    "deletable": false,
    "editable": false
   },
   "source": [
    "***Aufgabe 4 (Vererbung und Komposition).*** Unser Rechteck ist durch einen Startpunkt ``x``, ``y`` und durch die Breite ``width`` und Höhe ``height`` eindeutig definiert. Ein Punkt widerum durch ``x`` und ``y``. Würden Sie zustimmen, dass deshalb ein Punkt eine Abstraktion eines Rechtecks ist?"
   ]
  },
  {
   "cell_type": "markdown",
   "id": "1cc526da",
   "metadata": {
    "deletable": false,
    "editable": false
   },
   "source": [
    "***Aufgabe 5 (Klassen und Objekte).*** Ändern Sie Ihre Klasse ``Rectangle`` ab.\n",
    "\n",
    "1. Nutzten Sie anstatt ``x``, ``y`` einen ``point`` des Typs ``Point``\n",
    "2. Führen Sie Methoden ``get_x1``, ``get_y1``, ``get_x2``, ``get_y2`` ein, welche Ihnen ``point.x``, ``point.y`` sowie ``point.x + width`` und ``point.y + height`` zurückliefern.\n",
    "3. Machen Sie alle *Attribute* privat.\n",
    "\n",
    "Vermeiden Sie dabei doppelten Code!"
   ]
  },
  {
   "cell_type": "code",
   "execution_count": null,
   "id": "eb8da6dd",
   "metadata": {
    "tags": []
   },
   "outputs": [],
   "source": [
    "class Rectangle():\n",
    "    ..."
   ]
  },
  {
   "cell_type": "code",
   "execution_count": null,
   "id": "63ce321e",
   "metadata": {
    "deletable": false,
    "editable": false
   },
   "outputs": [],
   "source": [
    "rPoint = Point(x=10, y=12)\n",
    "rect = Rectangle(rPoint, width=100, height=30)\n",
    "point1 = Point(31, 41)\n",
    "point2 = Point(-3, 50)\n",
    "print(rect.contains(point1))\n",
    "print(rect.contains(point2))\n",
    "print(rect)\n",
    "print(point1)"
   ]
  },
  {
   "cell_type": "markdown",
   "id": "5345bb10",
   "metadata": {
    "deletable": false,
    "editable": false
   },
   "source": [
    "***Aufgabe 6 (Klassen und Objekte).*** Erweitern Sie Ihre Klasse ``Point`` um die Methode ``add(point)`` und ``sub(point)`` sodass\n",
    "\n",
    "```python\n",
    "Point(1,1).add(Point(2,3))\n",
    "```\n",
    "\n",
    "einen **neuen** ``Point(3,4)`` zurückliefert.\n",
    "Implementieren Sie ``sub`` (die Subtraktion) entsprechend."
   ]
  },
  {
   "cell_type": "code",
   "execution_count": null,
   "id": "26ea2a01",
   "metadata": {
    "tags": []
   },
   "outputs": [],
   "source": [
    "class Point():\n",
    "    def __init__(self, x, y):\n",
    "        self.x = x\n",
    "        self.y = y\n",
    "        \n",
    "    def __str__(self):\n",
    "         return f'({self.x}, {self.y})'\n",
    "    \n",
    "    ..."
   ]
  },
  {
   "cell_type": "code",
   "execution_count": null,
   "id": "bdef2758",
   "metadata": {
    "deletable": false,
    "editable": false
   },
   "outputs": [],
   "source": [
    "p1 = Point(1,1)\n",
    "p2 = Point(2,3)\n",
    "p3 = p1.add(p2)\n",
    "p4 = p1.sub(p2)\n",
    "print(f' {p1}.add({p2}) == {p3}')\n",
    "print(f' {p1}.sub({p2}) == {p4}')"
   ]
  },
  {
   "cell_type": "markdown",
   "id": "7dc0ffdd",
   "metadata": {
    "deletable": false,
    "editable": false
   },
   "source": [
    "***Aufgabe 7 (Polymorphie).*** Finden Sie heraus (Google ist Ihr Freund) wie Sie den ``+`` und ``-``-Operator **überladen** (engl. overload) können, sodass Sie anstatt\n",
    "\n",
    "```python\n",
    "Point(1,1).add(Point(2,3))\n",
    "```\n",
    "\n",
    "das folgende schreiben können\n",
    "\n",
    "```python\n",
    "Point(1,1) + Point(2,3)\n",
    "```\n",
    "\n",
    "bzw. anstatt\n",
    "\n",
    "```python\n",
    "Point(1,1).sub(Point(2,3))\n",
    "```\n",
    "\n",
    "das folgende schreiben können\n",
    "\n",
    "```python\n",
    "Point(1,1) - Point(2,3)\n",
    "```\n",
    "\n",
    "Passen Sie Ihre Klasse ``Point`` entsprechend an!"
   ]
  },
  {
   "cell_type": "code",
   "execution_count": null,
   "id": "072d4af3",
   "metadata": {
    "tags": []
   },
   "outputs": [],
   "source": [
    "class Point():\n",
    "    def __init__(self, x, y):\n",
    "        self.x = x\n",
    "        self.y = y\n",
    "        \n",
    "    def __str__(self):\n",
    "        return f'({self.x}, {self.y})'\n",
    "    \n",
    "    ..."
   ]
  },
  {
   "cell_type": "code",
   "execution_count": null,
   "id": "38f0b564",
   "metadata": {
    "deletable": false,
    "editable": false
   },
   "outputs": [],
   "source": [
    "p1 = Point(1,1)\n",
    "p2 = Point(2,3)\n",
    "p3 = p1 + p2\n",
    "p4 = p1 - p2\n",
    "print(f' {p1} + {p2} == {p3}')\n",
    "print(f' {p1} - {p2} == {p4}')"
   ]
  },
  {
   "cell_type": "markdown",
   "id": "b1807a75",
   "metadata": {
    "deletable": false,
    "editable": false
   },
   "source": [
    "***Aufgabe 8 (Veränderlichkeit).*** Sind Ihre Objekte von der Klasse ``Point`` veränderlich oder unveränderlich? Sofern Sie veränderlich sind, wie könnten Sie sicherstellen, dass sie unveränderlich sind? Führen Sie diese Änderungen an der Klasse ``Point`` durch."
   ]
  },
  {
   "cell_type": "code",
   "execution_count": null,
   "id": "54c3e6ce",
   "metadata": {
    "scrolled": true,
    "tags": []
   },
   "outputs": [],
   "source": [
    "p1 = Point(1,1)\n",
    "p1.x = 4\n",
    "print(p1)"
   ]
  },
  {
   "cell_type": "code",
   "execution_count": null,
   "id": "a304c9d7",
   "metadata": {
    "tags": []
   },
   "outputs": [],
   "source": [
    "class Point():\n",
    "    ..."
   ]
  },
  {
   "cell_type": "code",
   "execution_count": null,
   "id": "a66a796d",
   "metadata": {
    "deletable": false,
    "editable": false
   },
   "outputs": [],
   "source": [
    "p1 = Point(1,1)\n",
    "p1.x = 4\n",
    "print(p1)\n",
    "print(p1 + Point(2,2))"
   ]
  }
 ],
 "metadata": {
  "kernelspec": {
   "display_name": "Python 3.10.4 64-bit",
   "language": "python",
   "name": "python3"
  },
  "language_info": {
   "codemirror_mode": {
    "name": "ipython",
    "version": 3
   },
   "file_extension": ".py",
   "mimetype": "text/x-python",
   "name": "python",
   "nbconvert_exporter": "python",
   "pygments_lexer": "ipython3",
   "version": "3.10.4"
  },
  "otter": {
   "OK_FORMAT": true,
   "assignment_name": "11_oop_teil1",
   "tests": {}
  },
  "vscode": {
   "interpreter": {
    "hash": "aee8b7b246df8f9039afb4144a1f6fd8d2ca17a180786b69acc140d282b71a49"
   }
  }
 },
 "nbformat": 4,
 "nbformat_minor": 5
}

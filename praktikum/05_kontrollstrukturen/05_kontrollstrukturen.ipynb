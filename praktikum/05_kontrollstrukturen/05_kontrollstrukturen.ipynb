{
 "cells": [
  {
   "cell_type": "code",
   "execution_count": null,
   "metadata": {
    "deletable": false,
    "editable": false
   },
   "outputs": [],
   "source": [
    "# Initialize Otter\n",
    "import otter\n",
    "grader = otter.Notebook(\"05_kontrollstrukturen.ipynb\")"
   ]
  },
  {
   "cell_type": "markdown",
   "metadata": {},
   "source": [
    "# Computational Thinking WS2023/24\n",
    "\n",
    "## Kontrollstrukturen\n",
    "\n",
    "**Autoren:** \n",
    "+ Prof. Benedikt Dietrich"
   ]
  },
  {
   "cell_type": "markdown",
   "metadata": {
    "deletable": false,
    "editable": false
   },
   "source": [
    "### Aufgabe 1 - Schaltjahr\n",
    "\n",
    "In dem von uns verwendeten *gregorianischen Kalender* handelt es sich um ein Schaltjahr, wenn\n",
    "\n",
    "1. die Jahreszahl durch vier ganzzahlig teilbar ist \n",
    "1. und die Jahreszahl *nicht* durch 100 teilbar ist.\n",
    "1. Ist die Jahreszahl durch 400 ganzzahlig teilbar handelt es sich entgegen der Regel 2 trotzdem um ein Schaltjahr.\n",
    "\n",
    "Schreiben Sie ein Programm, das prüft, ob es sich bei einer beliebigen Jahreszahl um ein Schaltjahr handelt oder nicht. Das Ergebnis soll in Form einer booleschen Variable namens `is_leap_year` gespeichert werden. Außerdem soll eine der beiden Nachrichten ausgegeben:\n",
    "\n",
    "```text\n",
    "    Das Jahr yyyy ist ein Schaltjahr.\n",
    "```\n",
    "oder\n",
    "\n",
    "```text\n",
    "    Das Jahr yyyy ist kein Schaltjahr.\n",
    "```\n",
    "\n",
    "wobei yyyy durch die Jahreszahl zu ersetzen ist."
   ]
  },
  {
   "cell_type": "code",
   "execution_count": 1,
   "metadata": {
    "tags": []
   },
   "outputs": [
    {
     "name": "stdout",
     "output_type": "stream",
     "text": [
      "Das Jahr 2000 ist ein Schaltjahr\n"
     ]
    }
   ],
   "source": [
    "year = 2000\n",
    "is_leap_year = False\n",
    "\n",
    "if year % 4 == 0 and year % 100 != 0:\n",
    "    is_leap_year = True\n",
    "elif year % 400 == 0:\n",
    "    is_leap_year = True\n",
    "\n",
    "if is_leap_year:\n",
    "    print(f\"Das Jahr {year} ist ein Schaltjahr\")\n",
    "else:\n",
    "    print(f\"Das Jahr {year} ist kein Schaltjahr\")"
   ]
  },
  {
   "cell_type": "markdown",
   "metadata": {},
   "source": [
    "***"
   ]
  },
  {
   "cell_type": "markdown",
   "metadata": {},
   "source": [
    "## Ein Essensautomat für die Mensa"
   ]
  },
  {
   "cell_type": "markdown",
   "metadata": {},
   "source": [
    "In der folgenden Aufgabe soll eine Menü-Führung für den Mensa-Essensautomat \"DasKlingtJaLecker\" entwickelt werden. Das Menü soll als einfacher Text ausgegeben werden. Der Nutzer soll mit der Tastatur sein Essen zusammenstellen können.\n",
    "\n",
    "Die einzelnen Menüpunkte sind mit folgendem Text gegeben:\n",
    "\n",
    "```text\n",
    "    Bitte wählen Sie Ihre Vorspeise:\n",
    "    1) Suppe\n",
    "    2) keine Vorspeise\n",
    "\n",
    "    Bitte wählen Sie Ihr Hautspeise: \n",
    "    1) Fleischgericht\n",
    "    2) Fisch\n",
    "    3) Vegetarisch\n",
    "    4) kein Hauptgericht\n",
    "\n",
    "    Bitte wählen Sie Ihre Nachspeise:\n",
    "    1) Kekse\n",
    "    2) Pudding\n",
    "    3) keine Nachspeise\n",
    "```\n",
    "\n",
    "Am Ende soll eine Zusammenfassung der Bestellung in folgender Form ausgegeben werden:\n",
    "\n",
    "```text\n",
    "    Sie haben gewählt:\n",
    "\n",
    "    Vorspeise: keine Vorspeise\n",
    "    Hauptgericht: Fisch\n",
    "    Nachspeise: Kekse\n",
    "```\n",
    "\n",
    "Sollte ein Nutzer sowohl Vor-, Haupt- und Nachspeise gewählt haben, soll außerdem am Ende die folgende Nachricht ausgegeben werden:\n",
    "\n",
    "```text\n",
    "    Hunger ist der beste Koch!\n",
    "```\n",
    "\n",
    "Wählt ein Nutzer weder Vor-, Haupt- und Nachspeise, soll am am Ende die folgende Nachricht ausgegeben werden:\n",
    "\n",
    "```text\n",
    "    Sie haben wohl keinen Hunger. Vielleicht sehen wir uns später nochmal.\n",
    "```"
   ]
  },
  {
   "cell_type": "markdown",
   "metadata": {},
   "source": [
    "Mit Hilfe der Built-In Funktion `int()` können Sie den den String in eine Zahl umwandeln, mit der Sie auch rechnen können: "
   ]
  },
  {
   "cell_type": "code",
   "execution_count": 1,
   "metadata": {},
   "outputs": [],
   "source": [
    "alter_string = input(\"Bitte geben Sie Ihr Alter ein: \")\n",
    "alter_int = int(alter_string)\n",
    "print(f\"Sie sind {alter_int} Jahre jung.\")\n",
    "print(f\"Der Typ von alter ist: {type(alter_int)}\")"
   ]
  },
  {
   "cell_type": "markdown",
   "metadata": {},
   "source": [
    "### Einschub - Divide and Conquer\n",
    "\n",
    "Die oben beschriebenen Anforderungen an unseren Automaten klingen erst einmal komplex. Um eine komplexe Aufgabe in der Informatik zu lösen bedient man sich eines Ansatzes namens *Divide & Conquer*: Man teilt das große, scheinbar komplexe oder gar unlösbare Problem in mehrere kleinere Probleme, die sich für sich lösen lassen (divide). Die Kombination der Einzellösungen ergibt dann idealerweise die Lösung des Gesamtproblems (conquer)."
   ]
  },
  {
   "cell_type": "markdown",
   "metadata": {
    "deletable": false,
    "editable": false
   },
   "source": [
    "### Aufgabe 2\n",
    "\n",
    "Zerlegen Sie obige Anforderungen in mindestens drei Teilprobleme."
   ]
  },
  {
   "cell_type": "markdown",
   "metadata": {},
   "source": [
    "1. Abfrage der Speisen\n",
    "2. Ausgabe der Bestellung\n",
    "3. Ausgabe der Nachricht"
   ]
  },
  {
   "cell_type": "markdown",
   "metadata": {},
   "source": [
    "### Aufgabe 3\n",
    "\n",
    "Schreiben Sie ein Programm, welches den Nutzer auffordert 1, 2 oder 3 auszuwählen. Wenn der Nutzer eine falsche Eingabe tätigt (eine falsche Zahl), soll Ihr Programm eine Fehlermeldung ausgeben. Ansonsten soll ausgegeben werden:\n",
    "\n",
    "```text\n",
    "    Sie haben x) gewählt\n",
    "```\n",
    "\n",
    "wobei x natürlich durch den entsprechenden Buchstaben zu ersetzen ist."
   ]
  },
  {
   "cell_type": "code",
   "execution_count": 3,
   "metadata": {
    "tags": []
   },
   "outputs": [
    {
     "name": "stdout",
     "output_type": "stream",
     "text": [
      "Sie haben a gewählt\n"
     ]
    }
   ],
   "source": [
    "\"\"\" wahl = input(\"Bitte geben Sie Ihre Wahl ein: \")\n",
    "\n",
    "if wahl == \"a\" or wahl == \"b\" or wahl == \"c\":\n",
    "    print(f\"Sie haben {wahl}) gewählt\")\n",
    "else:\n",
    "    print(\"Ihre Wahl ist ungültig\") \"\"\"\n",
    "\n",
    "\n",
    "\n",
    "wahl = input(\"Bitte geben Sie Ihre Wahl ein: \")\n",
    "\n",
    "if wahl == \"1\" or wahl == \"2\" or wahl == \"3\":\n",
    "    print(f\"Sie haben {wahl}) gewählt\")\n",
    "else:\n",
    "    print(\"Ihre Wahl ist ungültig\")"
   ]
  },
  {
   "cell_type": "markdown",
   "metadata": {
    "deletable": false,
    "editable": false
   },
   "source": [
    "### Aufgabe 4\n",
    "\n",
    "Kopieren Sie den Code von oben in die nächste Zelle und ändern Sie den Code nun so ab, dass der Nutzer so lange aufgefordert wird auszuwählen, bis er eine gültige Zahl eingetippt hat. Gibt der Nutzer etwas anderes ein soll der Text\n",
    "\n",
    "```text\n",
    "    Falsche Eingabe.\n",
    "```\n",
    "\n",
    "ausgegeben werden und der Nutzer erneut aufgefordert werden, auszuwählen."
   ]
  },
  {
   "cell_type": "code",
   "execution_count": 2,
   "metadata": {
    "tags": []
   },
   "outputs": [
    {
     "name": "stdout",
     "output_type": "stream",
     "text": [
      "Ihre Wahl ist ungültig\n",
      "Ihre Wahl ist ungültig\n",
      "Sie haben a) gewählt\n"
     ]
    }
   ],
   "source": [
    "\"\"\" choice = False\n",
    "\n",
    "while choice != True:\n",
    "    wahl = input(\"Bitte geben Sie Ihre Wahl ein: \")\n",
    "    if wahl == \"a\" or wahl == \"b\" or wahl == \"c\":\n",
    "        print(f\"Sie haben {wahl}) gewählt\")\n",
    "        choice = True\n",
    "    else:\n",
    "        print(\"Falsche Eingabe\") \"\"\"\n",
    "\n",
    "\n",
    "\n",
    "while choice != True:\n",
    "    wahl = input(\"Bitte geben Sie Ihre Wahl ein: \")\n",
    "    if wahl == \"a\" or wahl == \"b\" or wahl == \"c\":\n",
    "        print(f\"Sie haben {wahl}) gewählt\")\n",
    "        choice = True\n",
    "    else:\n",
    "        print(\"Falsche Eingabe\")"
   ]
  },
  {
   "cell_type": "markdown",
   "metadata": {
    "deletable": false,
    "editable": false
   },
   "source": [
    "### Aufgabe 5\n",
    "\n",
    "Erstellen Sie nun ein Programm, das den Nutzer jeweils fragt, was er als Vor-, Haupt- und Nachspeise essen will. Sollte der Nutzer für einen der Punkte etwas ungültiges eingeben, soll er, wie in Aufgabe 4 gelöst, erneut aufgefordert werden, einen gültigen Menüpunkt auszuwählen.\n",
    "\n",
    "Verzichten Sie noch auf die Zusammenfassung der Bestellung."
   ]
  },
  {
   "cell_type": "code",
   "execution_count": 2,
   "metadata": {
    "tags": []
   },
   "outputs": [
    {
     "name": "stdout",
     "output_type": "stream",
     "text": [
      "Sie haben a) gewählt\n",
      "Sie haben b) gewählt\n",
      "Ihre Wahl ist ungültig\n",
      "Sie haben a) gewählt\n"
     ]
    }
   ],
   "source": [
    "choice_vorspeise = False\n",
    "choice_hauptspeise = False\n",
    "choice_nachspeise = False\n",
    "\n",
    "while choice_vorspeise != True:\n",
    "    vorspeise = input(\"Bitte geben Sie Ihre Wahl ein: \")\n",
    "    if vorspeise == \"a\" or vorspeise == \"b\":\n",
    "        print(f\"Sie haben {vorspeise}) gewählt\")\n",
    "        choice_vorspeise = True\n",
    "    else:\n",
    "        print(\"Falsche Eingabe\")\n",
    "\n",
    "while choice_hauptspeise != True:\n",
    "    hauptspeise = input(\"Bitte geben Sie Ihre Wahl ein: \")\n",
    "    if hauptspeise == \"a\" or hauptspeise == \"b\" or hauptspeise == \"c\" or hauptspeise == \"d\":\n",
    "        print(f\"Sie haben {hauptspeise}) gewählt\")\n",
    "        choice_hauptspeise = True\n",
    "    else:\n",
    "        print(\"Falsche Eingabe\")\n",
    "\n",
    "while choice_nachspeise != True:\n",
    "    nachspeise = input(\"Bitte geben Sie Ihre Wahl ein: \")\n",
    "    if nachspeise == \"a\" or nachspeise == \"b\" or nachspeise == \"c\":\n",
    "        print(f\"Sie haben {nachspeise}) gewählt\")\n",
    "        choice_nachspeise = True\n",
    "    else:\n",
    "        print(\"Falsche Eingabe\")"
   ]
  },
  {
   "cell_type": "markdown",
   "metadata": {},
   "source": [
    "### Einschub - Listen in der for-Schleife\n",
    "\n",
    "Wir werden Listen noch im Detail behandeln. Hier sollen Sie Listen aber schon einmal \"ausprobieren\". \n",
    "\n",
    "Folgendes Code-Beispiel zeigt, wie man Listen von Strings in Kombination mit `for`-Schleifen effizient verwenden kann:"
   ]
  },
  {
   "cell_type": "code",
   "execution_count": 1,
   "metadata": {},
   "outputs": [
    {
     "name": "stdout",
     "output_type": "stream",
     "text": [
      "a) Suppe\n",
      "b) keine Vorspeise\n"
     ]
    }
   ],
   "source": [
    "vorspeisen = [\"Suppe\", \"keine Vorspeise\"]\n",
    "for index, vorspeise in enumerate(vorspeisen):\n",
    "    print(f\"{index + 1}) {vorspeise}\")"
   ]
  },
  {
   "cell_type": "markdown",
   "metadata": {
    "deletable": false,
    "editable": false
   },
   "source": [
    "### Aufgabe 6\n",
    "\n",
    "Kopieren Sie Ihr Programm von oben in eine Zelle und vereinfachen Sie Ihr Programm mit Hilfe des im \"Einschub - Listen in der for-Schleife\" gegebenen Source Codes. Wenden Sie dies auch für Haupt- und Nachspeise an."
   ]
  },
  {
   "cell_type": "code",
   "execution_count": 7,
   "metadata": {
    "tags": []
   },
   "outputs": [
    {
     "name": "stdout",
     "output_type": "stream",
     "text": [
      "Bitte wählen Sie ihre Vorspeise:\n",
      "a) Suppe\n",
      "b) keine Vorspeise\n",
      "\n",
      "Bitte wählen Sie ihre Hauptspeise:\n",
      "a) Fleischgericht\n",
      "b) Fisch\n",
      "c) Vegetarisch\n",
      "d) keine Hauptspeise\n",
      "\n",
      "Bitte wählen Sie ihre Nachspeise:\n",
      "a) Kekse\n",
      "b) Pudding\n",
      "c) keine Nachspeise\n",
      "Falsche Eingabe\n",
      "Falsche Eingabe\n",
      "Falsche Eingabe\n"
     ]
    },
    {
     "ename": "TypeError",
     "evalue": "ord() expected a character, but string of length 0 found",
     "output_type": "error",
     "traceback": [
      "\u001b[0;31m---------------------------------------------------------------------------\u001b[0m",
      "\u001b[0;31mTypeError\u001b[0m                                 Traceback (most recent call last)",
      "\u001b[1;32m/Users/jonakaufmann/Documents/GitHub/HM/CT/ct-ws2023-students/praktikum/05_kontrollstrukturen/05_kontrollstrukturen.ipynb Cell 22\u001b[0m line \u001b[0;36m2\n\u001b[1;32m     <a href='vscode-notebook-cell:/Users/jonakaufmann/Documents/GitHub/HM/CT/ct-ws2023-students/praktikum/05_kontrollstrukturen/05_kontrollstrukturen.ipynb#X30sZmlsZQ%3D%3D?line=26'>27</a>\u001b[0m \u001b[39mwhile\u001b[39;00m choice[\u001b[39m0\u001b[39m] \u001b[39m==\u001b[39m \u001b[39mNone\u001b[39;00m:\n\u001b[1;32m     <a href='vscode-notebook-cell:/Users/jonakaufmann/Documents/GitHub/HM/CT/ct-ws2023-students/praktikum/05_kontrollstrukturen/05_kontrollstrukturen.ipynb#X30sZmlsZQ%3D%3D?line=27'>28</a>\u001b[0m     vorspeise \u001b[39m=\u001b[39m \u001b[39minput\u001b[39m(\u001b[39m\"\u001b[39m\u001b[39mBitte geben Sie Ihre Wahl ein: \u001b[39m\u001b[39m\"\u001b[39m)\n\u001b[0;32m---> <a href='vscode-notebook-cell:/Users/jonakaufmann/Documents/GitHub/HM/CT/ct-ws2023-students/praktikum/05_kontrollstrukturen/05_kontrollstrukturen.ipynb#X30sZmlsZQ%3D%3D?line=28'>29</a>\u001b[0m     \u001b[39mif\u001b[39;00m \u001b[39mord\u001b[39;49m(vorspeise) \u001b[39m>\u001b[39m\u001b[39m=\u001b[39m \u001b[39m97\u001b[39m \u001b[39mand\u001b[39;00m \u001b[39mord\u001b[39m(vorspeise) \u001b[39m<\u001b[39m\u001b[39m=\u001b[39m \u001b[39m97\u001b[39m \u001b[39m+\u001b[39m \u001b[39mlen\u001b[39m(vorspeisen) \u001b[39m-\u001b[39m \u001b[39m1\u001b[39m:\n\u001b[1;32m     <a href='vscode-notebook-cell:/Users/jonakaufmann/Documents/GitHub/HM/CT/ct-ws2023-students/praktikum/05_kontrollstrukturen/05_kontrollstrukturen.ipynb#X30sZmlsZQ%3D%3D?line=29'>30</a>\u001b[0m         \u001b[39mprint\u001b[39m(\u001b[39mf\u001b[39m\u001b[39m\"\u001b[39m\u001b[39mSie haben \u001b[39m\u001b[39m{\u001b[39;00mvorspeise\u001b[39m}\u001b[39;00m\u001b[39m) gewählt\u001b[39m\u001b[39m\"\u001b[39m)\n\u001b[1;32m     <a href='vscode-notebook-cell:/Users/jonakaufmann/Documents/GitHub/HM/CT/ct-ws2023-students/praktikum/05_kontrollstrukturen/05_kontrollstrukturen.ipynb#X30sZmlsZQ%3D%3D?line=30'>31</a>\u001b[0m         choice[\u001b[39m0\u001b[39m] \u001b[39m=\u001b[39m vorspeisen[\u001b[39mord\u001b[39m(vorspeise) \u001b[39m-\u001b[39m \u001b[39m97\u001b[39m]\n",
      "\u001b[0;31mTypeError\u001b[0m: ord() expected a character, but string of length 0 found"
     ]
    }
   ],
   "source": [
    "buchstaben = [\"a)\", \"b)\", \"c)\", \"d)\"]\n",
    "vorspeisen = [\"Suppe\", \"keine Vorspeise\"]\n",
    "hauptspeisen = [\"Fleischgericht\", \"Fisch\", \"Vegetarisch\", \"keine Hauptspeise\"]\n",
    "nachspeisen = [\"Kekse\", \"Pudding\", \"keine Nachspeise\"]\n",
    "\n",
    "# Ausgabe der Speisekarte\n",
    "\n",
    "print(\"Bitte wählen Sie ihre Vorspeise:\")\n",
    "\n",
    "for index, vorspeise in enumerate(vorspeisen):\n",
    "    print(f\"{buchstaben[index]} {vorspeise}\")\n",
    "\n",
    "print(\"\\nBitte wählen Sie ihre Hauptspeise:\")\n",
    "\n",
    "for index, hauptspeise in enumerate(hauptspeisen):\n",
    "    print(f\"{buchstaben[index]} {hauptspeise}\")\n",
    "\n",
    "print(\"\\nBitte wählen Sie ihre Nachspeise:\")\n",
    "\n",
    "for index, nachspeise in enumerate(nachspeisen):\n",
    "    print(f\"{buchstaben[index]} {nachspeise}\")\n",
    "\n",
    "# Auswahl der Speisen\n",
    "\n",
    "choice = [None, None, None]\n",
    "\n",
    "while choice[0] == None:\n",
    "    vorspeise = input(\"Bitte geben Sie Ihre Wahl ein: \")\n",
    "    if ord(vorspeise) >= 97 and ord(vorspeise) <= 97 + len(vorspeisen) - 1:\n",
    "        print(f\"Sie haben {vorspeise}) gewählt\")\n",
    "        choice[0] = vorspeisen[ord(vorspeise) - 97]\n",
    "    else:\n",
    "        print(\"Falsche Eingabe\")\n",
    "\n",
    "while choice[1] == None:\n",
    "    hauptspeise = input(\"Bitte geben Sie Ihre Wahl ein: \")\n",
    "    if ord(hauptspeise) >= 97 and ord(hauptspeise) <= 97 + len(hauptspeisen) - 1:\n",
    "        print(f\"Sie haben {hauptspeise}) gewählt\")\n",
    "        choice[1] = hauptspeisen[ord(hauptspeise) - 97]\n",
    "    else:\n",
    "        print(\"Falsche Eingabe\")\n",
    "\n",
    "while choice[2] == None:\n",
    "    nachspeise = input(\"Bitte geben Sie Ihre Wahl ein: \")\n",
    "    if ord(nachspeise) >= 97 and ord(nachspeise) <= 97 + len(nachspeisen) - 1:\n",
    "        print(f\"Sie haben {nachspeise}) gewählt\")\n",
    "        choice[2] = nachspeisen[ord(nachspeise) - 97]\n",
    "    else:\n",
    "        print(\"Falsche Eingabe\")\n",
    "\n",
    "print(f\"Sie haben folgendes Menü gewählt: {choice}\")"
   ]
  },
  {
   "cell_type": "markdown",
   "metadata": {
    "deletable": false,
    "editable": false
   },
   "source": [
    "### Aufgabe 7\n",
    "\n",
    "Erweitern Sie das Programm mit den besonderen Ausgaben:\n",
    "\n",
    "Sollte ein Nutzer sowohl Vor-, Haupt- und Nachspeise gewählt haben, soll außerdem am Ende die folgende Nachricht ausgegeben werden:\n",
    "\n",
    "```text\n",
    "    Hunger ist der beste Koch!\n",
    "```\n",
    "\n",
    "Wählt ein Nutzer weder Vor-, Haupt- und Nachspeise, soll am am Ende die folgende Nachricht ausgegeben werden:\n",
    "\n",
    "```text\n",
    "    Sie haben wohl keinen Hunger. Vielleicht sehen wir uns später nochmal.\n",
    "```"
   ]
  },
  {
   "cell_type": "code",
   "execution_count": 13,
   "metadata": {
    "tags": []
   },
   "outputs": [
    {
     "name": "stdout",
     "output_type": "stream",
     "text": [
      "Bitte wählen Sie ihre Vorspeise:\n",
      "a) Suppe\n",
      "b) keine Vorspeise\n",
      "\n",
      "Bitte wählen Sie ihre Hauptspeise:\n",
      "a) Fleischgericht\n",
      "b) Fisch\n",
      "c) Vegetarisch\n",
      "d) keine Hauptspeise\n",
      "\n",
      "Bitte wählen Sie ihre Nachspeise:\n",
      "a) Kekse\n",
      "b) Pudding\n",
      "c) keine Nachspeise\n",
      "Sie haben a) gewählt\n",
      "Sie haben b) gewählt\n",
      "Sie haben b) gewählt\n",
      "Sie haben folgendes Menü gewählt: ['Suppe', 'Fisch', 'Pudding']\n",
      "Hunger ist der beste Koch!\n"
     ]
    }
   ],
   "source": [
    "\n",
    "buchstaben = [\"a)\", \"b)\", \"c)\", \"d)\"]\n",
    "vorspeisen = [\"Suppe\", \"keine Vorspeise\"]\n",
    "hauptspeisen = [\"Fleischgericht\", \"Fisch\", \"Vegetarisch\", \"keine Hauptspeise\"]\n",
    "nachspeisen = [\"Kekse\", \"Pudding\", \"keine Nachspeise\"]\n",
    "\n",
    "# Ausgabe der Speisekarte\n",
    "\n",
    "print(\"Bitte wählen Sie ihre Vorspeise:\")\n",
    "\n",
    "for index, vorspeise in enumerate(vorspeisen):\n",
    "    print(f\"{buchstaben[index]} {vorspeise}\")\n",
    "\n",
    "print(\"\\nBitte wählen Sie ihre Hauptspeise:\")\n",
    "\n",
    "for index, hauptspeise in enumerate(hauptspeisen):\n",
    "    print(f\"{buchstaben[index]} {hauptspeise}\")\n",
    "\n",
    "print(\"\\nBitte wählen Sie ihre Nachspeise:\")\n",
    "\n",
    "for index, nachspeise in enumerate(nachspeisen):\n",
    "    print(f\"{buchstaben[index]} {nachspeise}\")\n",
    "\n",
    "# Auswahl der Speisen\n",
    "\n",
    "choice = [None, None, None]\n",
    "\n",
    "while choice[0] == None:\n",
    "    vorspeise = input(\"Bitte geben Sie Ihre Wahl ein: \")\n",
    "    if ord(vorspeise) >= 97 and ord(vorspeise) <= 97 + len(vorspeisen) - 1:\n",
    "        print(f\"Sie haben {vorspeise}) gewählt\")\n",
    "        choice[0] = vorspeisen[ord(vorspeise) - 97]\n",
    "    else:\n",
    "        print(\"Falsche Eingabe\")\n",
    "\n",
    "while choice[1] == None:\n",
    "    hauptspeise = input(\"Bitte geben Sie Ihre Wahl ein: \")\n",
    "    if ord(hauptspeise) >= 97 and ord(hauptspeise) <= 97 + len(hauptspeisen) - 1:\n",
    "        print(f\"Sie haben {hauptspeise}) gewählt\")\n",
    "        choice[1] = hauptspeisen[ord(hauptspeise) - 97]\n",
    "    else:\n",
    "        print(\"Falsche Eingabe\")\n",
    "\n",
    "while choice[2] == None:\n",
    "    nachspeise = input(\"Bitte geben Sie Ihre Wahl ein: \")\n",
    "    if ord(nachspeise) >= 97 and ord(nachspeise) <= 97 + len(nachspeisen) - 1:\n",
    "        print(f\"Sie haben {nachspeise}) gewählt\")\n",
    "        choice[2] = nachspeisen[ord(nachspeise) - 97]\n",
    "    else:\n",
    "        print(\"Falsche Eingabe\")\n",
    "\n",
    "print(f\"Sie haben folgendes Menü gewählt: {choice}\")\n",
    "\n",
    "# Besondere Ausgaben\n",
    "if choice == [\"keine Vorspeise\", \"keine Hauptspeise\", \"keine Nachspeise\"]:\n",
    "    print(\"Sie haben wohl keinen Hunger. Vielleicht sehen wir uns später nochmal.\")\n",
    "\n",
    "is_hungry = True\n",
    "\n",
    "for choice in choice:\n",
    "    if \"keine\" == choice.split()[0]:\n",
    "        is_hungry = False\n",
    "\n",
    "if is_hungry:\n",
    "    print(\"Hunger ist der beste Koch!\")"
   ]
  },
  {
   "cell_type": "markdown",
   "metadata": {
    "deletable": false,
    "editable": false
   },
   "source": [
    "### Aufgabe 8\n",
    "\n",
    "Folgender Code liefert ein gesuchtes Element eines bestimmten Index zurück:"
   ]
  },
  {
   "cell_type": "markdown",
   "metadata": {},
   "source": []
  },
  {
   "cell_type": "code",
   "execution_count": 8,
   "metadata": {
    "deletable": false,
    "editable": false
   },
   "outputs": [
    {
     "name": "stdout",
     "output_type": "stream",
     "text": [
      "2\n",
      "c)\n"
     ]
    }
   ],
   "source": [
    "buchstaben = [\"a)\", \"b)\", \"c)\", \"d)\"]\n",
    "\n",
    "index = 2\n",
    "print(index)\n",
    "print(buchstaben[index]) # Wählt das index-te Element der Liste aus (Index beginnt bei 0!)"
   ]
  },
  {
   "cell_type": "markdown",
   "metadata": {
    "deletable": false,
    "editable": false
   },
   "source": [
    "Überlegen Sie sich, wie Sie dies für die Ausgabe der Zusammenfassung der Bestellung nutzen können und erweitern Sie den Source Code in einer neuen Zelle entsprechend."
   ]
  },
  {
   "cell_type": "code",
   "execution_count": 15,
   "metadata": {
    "tags": []
   },
   "outputs": [
    {
     "name": "stdout",
     "output_type": "stream",
     "text": [
      "Bitte wählen Sie ihre Vorspeise:\n",
      "1) Suppe\n",
      "2) keine Vorspeise\n",
      "\n",
      "Bitte wählen Sie ihre Hauptspeise:\n",
      "1) Fleischgericht\n",
      "2) Fisch\n",
      "3) Vegetarisch\n",
      "4) Glutenfrei\n",
      "5) keine Hauptspeise\n",
      "\n",
      "Bitte wählen Sie ihre Nachspeise:\n",
      "1) Pudding\n",
      "2) keine Nachspeise\n",
      "Sie haben 1) gewählt\n",
      "Sie haben 5) gewählt\n",
      "Sie haben 2) gewählt\n",
      "\n",
      "Sie haben folgendes Menü gewählt:\n",
      "Vorspeise: Suppe\n",
      "Hauptspeise: keine Hauptspeise\n",
      "Nachspeise: keine Nachspeise\n"
     ]
    }
   ],
   "source": [
    "\"\"\" buchstaben = [\"a)\", \"b)\", \"c)\", \"d)\"]\n",
    "vorspeisen = [\"Suppe\", \"keine Vorspeise\"]\n",
    "hauptspeisen = [\"Fleischgericht\", \"Fisch\", \"Vegetarisch\", \"keine Hauptspeise\"]\n",
    "nachspeisen = [\"Kekse\", \"Pudding\", \"keine Nachspeise\"]\n",
    "\n",
    "# Ausgabe der Speisekarte\n",
    "\n",
    "print(\"Bitte wählen Sie ihre Vorspeise:\")\n",
    "\n",
    "for index, vorspeise in enumerate(vorspeisen):\n",
    "    print(f\"{buchstaben[index]} {vorspeise}\")\n",
    "\n",
    "print(\"\\nBitte wählen Sie ihre Hauptspeise:\")\n",
    "\n",
    "for index, hauptspeise in enumerate(hauptspeisen):\n",
    "    print(f\"{buchstaben[index]} {hauptspeise}\")\n",
    "\n",
    "print(\"\\nBitte wählen Sie ihre Nachspeise:\")\n",
    "\n",
    "for index, nachspeise in enumerate(nachspeisen):\n",
    "    print(f\"{buchstaben[index]} {nachspeise}\")\n",
    "\n",
    "# Auswahl der Speisen\n",
    "\n",
    "choice = [None, None, None]\n",
    "\n",
    "while choice[0] == None:\n",
    "    vorspeise = input(\"Bitte geben Sie Ihre Wahl ein: \")\n",
    "    if ord(vorspeise) >= 97 and ord(vorspeise) <= 97 + len(vorspeisen) - 1:\n",
    "        print(f\"Sie haben {vorspeise}) gewählt\")\n",
    "        choice[0] = vorspeisen[ord(vorspeise) - 97]\n",
    "    else:\n",
    "        print(\"Falsche Eingabe\")\n",
    "\n",
    "while choice[1] == None:\n",
    "    hauptspeise = input(\"Bitte geben Sie Ihre Wahl ein: \")\n",
    "    if ord(hauptspeise) >= 97 and ord(hauptspeise) <= 97 + len(hauptspeisen) - 1:\n",
    "        print(f\"Sie haben {hauptspeise}) gewählt\")\n",
    "        choice[1] = hauptspeisen[ord(hauptspeise) - 97]\n",
    "    else:\n",
    "        print(\"Falsche Eingabe\")\n",
    "\n",
    "while choice[2] == None:\n",
    "    nachspeise = input(\"Bitte geben Sie Ihre Wahl ein: \")\n",
    "    if ord(nachspeise) >= 97 and ord(nachspeise) <= 97 + len(nachspeisen) - 1:\n",
    "        print(f\"Sie haben {nachspeise}) gewählt\")\n",
    "        choice[2] = nachspeisen[ord(nachspeise) - 97]\n",
    "    else:\n",
    "        print(\"Falsche Eingabe\")\n",
    "\n",
    "# Ausgabe Zusammenfassung\n",
    "\n",
    "print(f\"\\nSie haben folgendes Menü gewählt:\")\n",
    "print(f\"Vorspeise: {choice[0]}\")\n",
    "print(f\"Hauptspeise: {choice[1]}\")\n",
    "print(f\"Nachspeise: {choice[2]}\")\n",
    "\n",
    "# Besondere Ausgaben\n",
    "if choice == [\"keine Vorspeise\", \"keine Hauptspeise\", \"keine Nachspeise\"]:\n",
    "    print(\"\\nSie haben wohl keinen Hunger. Vielleicht sehen wir uns später nochmal.\")\n",
    "\n",
    "is_hungry = True\n",
    "\n",
    "for choice in choice:\n",
    "    if \"keine\" == choice.split()[0]:\n",
    "        is_hungry = False\n",
    "\n",
    "if is_hungry:\n",
    "    print(\"\\nHunger ist der beste Koch!\") \"\"\"\n",
    "\n",
    "vorspeisen = [\"Suppe\", \"keine Vorspeise\"]\n",
    "hauptspeisen = [\"Fleischgericht\", \"Fisch\", \"Vegetarisch\", \"Glutenfrei\", \"keine Hauptspeise\"]\n",
    "nachspeisen = [\"Pudding\", \"keine Nachspeise\"]\n",
    "\n",
    "# Auswahl der Speisen\n",
    "\n",
    "choice = [None, None, None]\n",
    "\n",
    "print(\"Bitte wählen Sie ihre Vorspeise:\")\n",
    "for index, vorspeise in enumerate(vorspeisen):\n",
    "    print(f\"{index + 1}) {vorspeise}\")\n",
    "\n",
    "while choice[0] == None:\n",
    "    vorspeise = int(input(\"Bitte geben Sie Ihre Wahl ein: \"))\n",
    "    if vorspeise >= 1 and vorspeise <= len(vorspeisen):\n",
    "        print(f\"Sie haben {vorspeise}) gewählt\")\n",
    "        choice[0] = vorspeisen[vorspeise - 1]\n",
    "    else:\n",
    "        print(\"Falsche Eingabe\")\n",
    "\n",
    "print(\"\\nBitte wählen Sie ihre Hauptspeise:\")\n",
    "for index, hauptspeise in enumerate(hauptspeisen):\n",
    "    print(f\"{index + 1}) {hauptspeise}\")\n",
    "\n",
    "while choice[1] == None:\n",
    "    hauptspeise = int(input(\"Bitte geben Sie Ihre Wahl ein: \"))\n",
    "    if hauptspeise >= 1 and hauptspeise <= len(hauptspeisen):\n",
    "        print(f\"Sie haben {hauptspeise}) gewählt\")\n",
    "        choice[1] = hauptspeisen[hauptspeise - 1]\n",
    "    else:\n",
    "        print(\"Falsche Eingabe\")\n",
    "\n",
    "print(\"\\nBitte wählen Sie ihre Nachspeise:\")\n",
    "for index, nachspeise in enumerate(nachspeisen):\n",
    "    print(f\"{index + 1}) {nachspeise}\")\n",
    "\n",
    "while choice[2] == None:\n",
    "    nachspeise = int(input(\"Bitte geben Sie Ihre Wahl ein: \"))\n",
    "    if nachspeise >= 1 and nachspeise <= len(nachspeisen):\n",
    "        print(f\"Sie haben {nachspeise}) gewählt\")\n",
    "        choice[2] = nachspeisen[nachspeise - 1]\n",
    "    else:\n",
    "        print(\"Falsche Eingabe\")\n",
    "\n",
    "# Ausgabe Zusammenfassung use enumerate()\n",
    "\n",
    "print(f\"\\nSie haben folgendes Menü gewählt:\")\n",
    "print(f\"Vorspeise: {choice[0]}\")\n",
    "print(f\"Hauptspeise: {choice[1]}\")\n",
    "print(f\"Nachspeise: {choice[2]}\")\n",
    "\n",
    "# Besondere Ausgaben\n",
    "if choice == [\"keine Vorspeise\", \"keine Hauptspeise\", \"keine Nachspeise\"]:\n",
    "    print(\"\\nSie haben wohl keinen Hunger. Vielleicht sehen wir uns später nochmal.\")\n",
    "\n",
    "is_hungry = True\n",
    "\n",
    "for choice in choice:\n",
    "    if \"keine\" == choice.split()[0]:\n",
    "        is_hungry = False\n",
    "\n",
    "if is_hungry:\n",
    "    print(\"\\nHunger ist der beste Koch!\")"
   ]
  },
  {
   "cell_type": "markdown",
   "metadata": {},
   "source": [
    "### Aufgabe 9\n",
    "\n",
    "Ein Problem kann in Software auf unzählige Arten und Weisen gelöst werden. Die verschiedenen Lösungen unterscheiden sich bezüglich der Qualität der Software. Klassische Software-Qualitätskriterien sind unter anderem\n",
    "\n",
    "* Erweiterbarkeit\n",
    "* Wartbarkeit\n",
    "* Lesbarkeit\n",
    "* Effizienz\n",
    "* Funktionalität\n",
    "* ...\n",
    "\n",
    "Ändern Sie den Mensaspeiseplan indem Sie ein Hauptgericht hinzufügen. Außerdem sind die Kekse aus, d.h. dieser Eintrag soll von Ihrem Programm entfernt werden. An welchen Stellen müssen Sie Änderungen durchführen? Wie beurteilen Sie Ihr Programm bezüglich Erweiterbarkeit? Haben Sie eine Idee, wie Sie die Anzahl an Stellen reduzieren könnten?"
   ]
  },
  {
   "cell_type": "markdown",
   "metadata": {},
   "source": [
    "*Notieren Sie hier Ihre Änderungen und Ihre Idee, wie Sie das Programm hinsichtlich Erweiterbarkeit verbessern könnten.*\n",
    "\n",
    "- Automatisch letzter eintrag als \"keine nachspeise\" ausgeben lassens"
   ]
  },
  {
   "cell_type": "markdown",
   "metadata": {
    "deletable": false,
    "editable": false
   },
   "source": [
    "---\n",
    "\n",
    "**Hinweis**: Durch Auswertung der folgenden Zelle werden alle Tests ausgeführt.\n",
    "Sie sollten das Notebook zuvor bis hier hin von oben nach unten ausgewertet haben.\n",
    "\n"
   ]
  },
  {
   "cell_type": "code",
   "execution_count": null,
   "metadata": {
    "deletable": false,
    "editable": false
   },
   "outputs": [],
   "source": [
    "grader.check_all()"
   ]
  }
 ],
 "metadata": {
  "kernelspec": {
   "display_name": "Python 3",
   "language": "python",
   "name": "python3"
  },
  "language_info": {
   "codemirror_mode": {
    "name": "ipython",
    "version": 3
   },
   "file_extension": ".py",
   "mimetype": "text/x-python",
   "name": "python",
   "nbconvert_exporter": "python",
   "pygments_lexer": "ipython3",
   "version": "3.11.5"
  },
  "otter": {
   "OK_FORMAT": false,
   "assignment_name": "04_kontrollstrukturen",
   "tests": {}
  }
 },
 "nbformat": 4,
 "nbformat_minor": 2
}

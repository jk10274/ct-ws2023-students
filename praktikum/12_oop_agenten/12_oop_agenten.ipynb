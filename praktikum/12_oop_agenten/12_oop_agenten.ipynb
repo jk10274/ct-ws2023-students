{
 "cells": [
  {
   "attachments": {},
   "cell_type": "markdown",
   "metadata": {},
   "source": [
    "# Computational Thinking WS2022/23 - Abgabe\n",
    "**Autoren:** \n",
    "+ Dr. Benedikt Zönnchen\n",
    "+ Prof. Martin Hobelsberger\n",
    "+ Prof. Benedikt Dietrich"
   ]
  },
  {
   "attachments": {},
   "cell_type": "markdown",
   "metadata": {},
   "source": [
    "## Objektorientierte Programmierung\n",
    "\n",
    "In diesem Notebook beschäftigen wir uns mit der [objektorientierten Programmierung (OOP)](https://bzoennchen.github.io/ct-book/chapters/03-8/intro.html), insbesondere mit den Konzepten:\n",
    "\n",
    "+ Klassen und Objekte\n",
    "+ Konstruktoren\n",
    "+ Klassen- und Objektattributen\n",
    "+ Objektmethoden"
   ]
  },
  {
   "cell_type": "code",
   "execution_count": null,
   "metadata": {},
   "outputs": [],
   "source": [
    "import otter\n",
    "\n",
    "grader = otter.Notebook('12_oop_agenten.ipynb')"
   ]
  },
  {
   "attachments": {},
   "cell_type": "markdown",
   "metadata": {},
   "source": [
    "### Agenten, Teams und Verstecke\n",
    "\n",
    "Eine mysteriöse Geheimorganisation kommt auf Sie zu und will dass Sie eine kleine Software entwickeln um Geheimagenten zu verwalten.\n",
    "Die Organisiation bietet Ihnen einen Haufen Geld dafür an. \n",
    "Weil Sie gerade knapp bei Kasse sind, es erst der Anfang des Monats ist, und Sie sich jetzt schon wieder nur Nudeln mit Tomatensoße leisten können, nehmen Sie das Angebot an.\n",
    "\n",
    "Sie sollen eine Software schreiben, die Geheimagententeams ``Team`` verwaltet. \n",
    "Jedes ``Team`` hat ein dazugehöriges Versteck (``Lair``).\n",
    "Jedem ``Team`` können Agenten (``Agent``) zugewiesen werden. \n",
    "Ihre Kollegin \"Chaos_Christina\" hat Ihnen schon mal ein bisschen Arbeit abgenommen und die **Klasse** ``Agent`` implementiert."
   ]
  },
  {
   "cell_type": "code",
   "execution_count": null,
   "metadata": {},
   "outputs": [],
   "source": [
    "class Agent:\n",
    "    nAgents = 0\n",
    "    def __init__(self, name, eye_color):\n",
    "        self.name = name\n",
    "        self.eye_color = eye_color\n",
    "        self.code = Agent.nAgents\n",
    "        Agent.nAgents += 1\n",
    "    \n",
    "    def __eq__(self, other):\n",
    "        if type(other) != Agent:\n",
    "            return False\n",
    "        else:\n",
    "            return other.code == self.code\n",
    "    \n",
    "    def __repr__(self):\n",
    "        return f'{self.name, self.eye_color, self.code}'"
   ]
  },
  {
   "cell_type": "markdown",
   "metadata": {},
   "source": [
    "Wenn ein neuer ``Agent`` erzeugt wird, muss dieser mit seinem Namen ``name`` und seiner Augenfarbe ``eye_color`` angelegt werden.\n",
    "Ein ``Agent`` kann eindeutig durch seinen ``code`` identifiziert werden."
   ]
  },
  {
   "cell_type": "markdown",
   "metadata": {
    "deletable": false,
    "editable": false
   },
   "source": [
    "<!-- BEGIN QUESTION -->\n",
    "\n",
    "***\n",
    "***Aufgabe 1 (Klassen und deren Objekte).***\n",
    "\n",
    "Beschreiben Sie in Ihren eigenen Worten, wie die Klasse ``Agent`` funktioniert.\n",
    "+ Welche Rolle spielt die Variable ``nAgent``?\n",
    "+ Welche Rolle spielen die (besonderen) Methoden \n",
    "  + ``__init__``, \n",
    "  + ``__eq__`` und \n",
    "  + ``__repr__``?\n",
    "+ Welche Attribute hat ein **Objekt** der **Klasse** ``Agent``?\n",
    "+ Welche Attribute hat die **Klasse** ``Agent``?\n",
    "\n",
    "**Tipp:** Überlegen Sie was genau bei folgendem Aufruf"
   ]
  },
  {
   "cell_type": "code",
   "execution_count": null,
   "metadata": {
    "deletable": false,
    "editable": false
   },
   "outputs": [],
   "source": [
    "Agent('Thomas', 'braun') == Agent('Annika', 'grün')"
   ]
  },
  {
   "cell_type": "markdown",
   "metadata": {
    "deletable": false,
    "editable": false
   },
   "source": [
    "bzw. folgendem Aufruf "
   ]
  },
  {
   "cell_type": "code",
   "execution_count": null,
   "metadata": {
    "deletable": false,
    "editable": false
   },
   "outputs": [],
   "source": [
    "print(Agent('Annika', 'grün'))"
   ]
  },
  {
   "cell_type": "markdown",
   "metadata": {
    "deletable": false,
    "editable": false
   },
   "source": [
    "passiert."
   ]
  },
  {
   "cell_type": "markdown",
   "metadata": {},
   "source": [
    "_Ersetzen Sie diesen Text durch Ihre Antwort._"
   ]
  },
  {
   "cell_type": "markdown",
   "metadata": {
    "deletable": false,
    "editable": false
   },
   "source": [
    "<!-- END QUESTION -->\n",
    "\n",
    "***Aufgabe 2 (Objekterzeugung).***\n",
    "\n",
    "Erzeugen Sie eine Liste ``agents``, welche drei Agenten ``Agent`` enthält."
   ]
  },
  {
   "cell_type": "code",
   "execution_count": null,
   "metadata": {
    "tags": []
   },
   "outputs": [],
   "source": [
    "agents = ...\n",
    "print(agents)"
   ]
  },
  {
   "cell_type": "code",
   "execution_count": null,
   "metadata": {
    "deletable": false,
    "editable": false
   },
   "outputs": [],
   "source": [
    "grader.check(\"q2\")"
   ]
  },
  {
   "cell_type": "markdown",
   "metadata": {
    "deletable": false,
    "editable": false
   },
   "source": [
    "***Aufgabe 3 (Definition der Klasse ``Lair``).***\n",
    "\n",
    "Als nächstes soll das Versteck als Klasse ``Lair`` implementiert werden. \n",
    "Ein neues ``Lair`` soll einen Namen ``name`` und eine Kapazität ``cap`` haben.\n",
    "Die Kapazität gibt an wie viele Agenten im ``Lair`` Platz haben. \n",
    "Zusätzlich soll es über ein boolsches Attribut ``secret`` verfügen, dass bei der Initialisierung auf ``True`` gesetzt wird. \n",
    "Ein ``Lair`` soll durch die Methode ``unmask()`` enttarnt werden können, d.h. das Attribut ``secret`` wird auf ``False`` gesetzt.\n",
    "\n",
    "Das ist leider notwendig, weil Chaos_Christina schon öfter aus Versehen die streng geheimen Versteckkoordinaten geleakt hat und man das Versteck für diesen Fall als enttarnt markieren muss.\n",
    "\n",
    "Implementieren Sie die Klasse ``Lair``."
   ]
  },
  {
   "cell_type": "code",
   "execution_count": null,
   "metadata": {
    "tags": []
   },
   "outputs": [],
   "source": [
    "class Lair:\n",
    "    ...\n",
    "    def __repr__(self):\n",
    "        secret = 'still secret' if self.secret else 'public'\n",
    "        return f'Name: {self.name}, Capacity: {self.cap}, {secret}'"
   ]
  },
  {
   "cell_type": "code",
   "execution_count": null,
   "metadata": {
    "deletable": false,
    "editable": false
   },
   "outputs": [],
   "source": [
    "grader.check(\"q3\")"
   ]
  },
  {
   "cell_type": "markdown",
   "metadata": {
    "deletable": false,
    "editable": false
   },
   "source": [
    "***Aufgabe 4 (Definition der Klasse ``Team``).***\n",
    "\n",
    "In der Klasse ``Team`` wird ein Team zusammengestellt. \n",
    "Jedes Team hat einen Team-Namen ``name``, ein Wörterbuch ``agents`` an Agenten (mit dem Code ``code`` des Agenten als Schlüssel) und ein Versteck ``lair``. \n",
    "Chaos_Christina hat Ihnen auch hier schon wieder ein bisschen unter die Arme gegriffen und schon einige Methoden implementiert.\n",
    "Jetzt ist es Ihre Aufgabe die Klasse ``Team`` zu vervollständigen.\n",
    "\n",
    "``Team`` soll über folgende Methoden verfügen:\n",
    "\n",
    "1. ``__len__(self)``: \n",
    "   + Liefert die Anzahlen der Agenten des Teams zurück. \n",
    "   + **Hinweis:** Die Builtin-Funktion ``len(team)`` verwendet diese Methode!\n",
    "1. ``space(self)``: Liefert die Anzahl der Agenten, die noch hinzugefügt werden können, zurück, d.h. wie viel Platz noch ist.\n",
    "2. ``add_agent(self, agent)``: Soll dem Team einen Agenten ``agent`` hinzufügen, sofern die Anzahl der Agenten im Team kleiner ist als die Kapazität des Verstecks und das Versteck noch geheim ist.\n",
    "3. ``contains(self, agent)``: Liefert genau dann ``True``, wenn das Team den Agenten ``agent`` enthält.\n",
    "4. ``remove_agent(self)``: Löscht irgendeinen Agenten aus ``self`` und liefert diesen zurück. Wenn ``self`` leer ist sollte ``None`` zurückgeliefert werden.\n",
    "5. ``flee(self, other)``: \n",
    "   + Agenten fliehen das Team ``self`` und wechseln ins Team ``other``, solange Platz ist. \n",
    "   + Sind z.b. 3 Agenten in Team ``self`` und in Team ``other`` ist noch für 2 Platz, dann sollte nach ``flee(self, other)`` Team 1 noch einen Agenten enthalten und Team ``other`` sollte voll belegt sein (sofern es sich um 5 unterschiedliche Agenten handelt!). \n",
    "   + Ist ein Agent bereits im Team ``other`` verlässt er oder sie dennoch das Team ``self``.\n",
    "6. ``__repr__(self)``: \n",
    "   + Soll eine Zeichenkette zurückliefern, die eine gute Repräsentation des Teams darstellt.\n",
    "   + **Hinweis:** Die Builtin-Funktion ``print(team)`` verwendet diese Methode!\n",
    "\n"
   ]
  },
  {
   "cell_type": "code",
   "execution_count": null,
   "metadata": {
    "tags": []
   },
   "outputs": [],
   "source": [
    "class Team:\n",
    "    def __init__(self, name, lair):\n",
    "        ...\n",
    "    \n",
    "    ..."
   ]
  },
  {
   "cell_type": "code",
   "execution_count": null,
   "metadata": {
    "tags": []
   },
   "outputs": [],
   "source": [
    "marius = Agent(\"Marius\", \"blau\")\n",
    "sanja = Agent(\"Sanja\", \"orange\")\n",
    "margarete = Agent(\"Margarete\", \"weiss\")\n",
    "kalle = Agent(\"Kalle\", \"chaotisch\")\n",
    "amna = Agent(\"Amna\", \"bläulich\")\n",
    "sergio = Agent(\"Sergio\", \"braun\")\n",
    "xi = Agent(\"Xi\", \"braun\")\n",
    "\n",
    "team_chaos = Team(\"Chaos\", Lair(\"Bib\", 3))\n",
    "team_irresponsible = Team(\"Irresponsible\", Lair(name=\"HM\", cap=6))\n",
    "\n",
    "team_chaos.add_agent(marius)\n",
    "team_chaos.add_agent(sanja)\n",
    "team_chaos.add_agent(margarete)\n",
    "team_chaos.add_agent(kalle) # will not be added, team is full\n",
    "print(team_chaos)\n",
    "\n",
    "print('=======================================')\n",
    "\n",
    "team_irresponsible.add_agent(amna)\n",
    "team_irresponsible.add_agent(sergio)\n",
    "team_irresponsible.add_agent(xi)\n",
    "print(team_irresponsible)\n",
    "\n",
    "team_chaos.flee(team_irresponsible)\n",
    "\n",
    "print('=======================================')\n",
    "print(team_chaos)\n",
    "print('=======================================')\n",
    "print(team_irresponsible)"
   ]
  },
  {
   "cell_type": "code",
   "execution_count": null,
   "metadata": {
    "deletable": false,
    "editable": false
   },
   "outputs": [],
   "source": [
    "grader.check(\"q4\")"
   ]
  }
 ],
 "metadata": {
  "kernelspec": {
   "display_name": "Python 3.10.4 ('ct')",
   "language": "python",
   "name": "python3"
  },
  "language_info": {
   "codemirror_mode": {
    "name": "ipython",
    "version": 3
   },
   "file_extension": ".py",
   "mimetype": "text/x-python",
   "name": "python",
   "nbconvert_exporter": "python",
   "pygments_lexer": "ipython3",
   "version": "3.10.12"
  },
  "otter": {
   "OK_FORMAT": false,
   "assignment_name": "12_oop_agenten",
   "tests": {
    "q2": "from otter.test_files import test_case\n\nOK_FORMAT = False\n\nname = \"q2\"\npoints = 2\n\n@test_case(points=2, hidden=False, \n    success_message=\"Das sieht gut aus.\", \n    failure_message=\"Da ist noch was nicht richtig.\")\ndef test_agents_list(env):\n    lst = env['agents']\n    assert len(lst) == 3\n    assert all(map(lambda agent: type(agent) == env['Agent'], lst))\n    \n",
    "q3": "from otter.test_files import test_case\n\nOK_FORMAT = False\n\nname = \"q3\"\npoints = 4\n\n@test_case(points=1.5, hidden=False, \n    success_message=\"Das sieht gut aus.\", \n    failure_message=\"Da ist noch was nicht richtig.\")\ndef test_lair_signatures(env):\n    import inspect\n    \n    assert 'Lair' in env, \"Es sollte eine Klasse Lair geben.\"\n    \n    methods = [name for (name, _) in inspect.getmembers(env['Lair'], predicate=inspect.isfunction)]\n    \n    assert '__init__' in methods,  \"__init__ sollte eine Methode der Klasse Lair sein\"\n    assert 'unmask' in methods,  \"__init__ sollte eine Methode der Klasse Lair sein\"\n    assert '__repr__' in methods,  \"__init__ sollte eine Methode der Klasse Lair sein\"\n    \n    assert 'self' in inspect.signature(env['Lair'].__init__).parameters, \"self sollte der erste Parameter von __init__ sein\"\n    assert 'name' in inspect.signature(env['Lair'].__init__).parameters, \"name sollte ein Parameter von __init__ sein\"\n    assert 'cap' in inspect.signature(env['Lair'].__init__).parameters, \"cap sollte ein Parameter von __init__ sein\"\n    assert len(inspect.signature(env['Lair'].__init__).parameters) == 3, \"Die Methode __init__ sollte genau 3 Parameter besitzen\"\n    \n    assert 'self' in inspect.signature(env['Lair'].unmask).parameters, \"self sollte der erste Parameter der Methode unmask sein\"\n    assert len(inspect.signature(env['Lair'].unmask).parameters) == 1, \"Die Methode unmask sollte genau 1 Parameter besitzen\"\n    \n    \n@test_case(points=1.5, hidden=False, \n    success_message=\"Das sieht gut aus.\", \n    failure_message=\"Da ist noch was nicht richtig.\")\ndef test_lair_init(env):\n    lair = env['Lair'](name='Bene', cap=4)\n    assert lair.name == 'Bene', 'name sollte das erste Objektattribut sein'\n    assert lair.cap == 4, 'cap sollte das erste Objektattribut sein'\n    assert type(lair.cap) == int, 'cap sollte vom typ int sein'\n    assert lair.secret == True, 'secret sollte True sein'\n    \n@test_case(points=1, hidden=False, \n    success_message=\"Das sieht gut aus.\", \n    failure_message=\"Da ist noch was nicht richtig.\")\ndef test_lair_unmask(env):\n    lair = env['Lair'](name='Bene', cap=4)\n    assert lair.secret == True, 'secret sollte True sein'\n    lair.unmask()\n    assert lair.secret == False, 'secret sollte nun False sein'\n    \n",
    "q4": "from otter.test_files import test_case\n\nOK_FORMAT = False\n\nname = \"q4\"\npoints = 13\n\n@test_case(points=3, hidden=False, \n    success_message=\"Das sieht gut aus.\", \n    failure_message=\"Da ist noch was nicht richtig.\")\ndef test_team_signatures(env):\n    import inspect\n    \n    assert 'Team' in env, \"Es sollte eine Klasse Team geben.\"\n    \n    methods = [name for (name, _) in inspect.getmembers(env['Team'], predicate=inspect.isfunction)]\n    \n    assert '__init__' in methods,  \"__init__ sollte eine Methode der Klasse Lair sein\"\n    assert '__len__' in methods,  \"__len__ sollte eine Methode der Klasse Lair sein\"\n    assert 'space' in methods,  \"space sollte eine Methode der Klasse Lair sein\"\n    assert 'add_agent' in methods,  \"add_agent sollte eine Methode der Klasse Lair sein\"\n    assert 'contains' in methods,  \"contains sollte eine Methode der Klasse Lair sein\"\n    assert 'remove_agent' in methods,  \"remove_agent sollte eine Methode der Klasse Lair sein\"\n    assert 'add_agent' in methods,  \"add_agent sollte eine Methode der Klasse Lair sein\"\n    assert 'flee' in methods,  \"flee sollte eine Methode der Klasse Lair sein\"\n    assert '__repr__' in methods,  \"__repr__ sollte eine Methode der Klasse Lair sein\"\n    \n    assert 'self' in inspect.signature(env['Team'].__len__).parameters, \"self sollte der erste Parameter der Methode __len__ sein\"\n    assert len(inspect.signature(env['Team'].__len__).parameters) == 1, \"Die Methode __len__ sollte genau 1 Parameter besitzen\"\n    \n    assert 'self' in inspect.signature(env['Team'].space).parameters, \"self sollte der erste Parameter der Methode space sein\"\n    assert len(inspect.signature(env['Team'].space).parameters) == 1, \"Die Methode space sollte genau 1 Parameter besitzen\"\n    \n    assert 'self' in inspect.signature(env['Team'].add_agent).parameters, \"self sollte der erste Parameter der Methode add_agent sein\"\n    assert 'agent' in inspect.signature(env['Team'].add_agent).parameters, \"agent sollte ein Parameter der Methode add_agent sein\"\n    assert len(inspect.signature(env['Team'].add_agent).parameters) == 2, \"Die Methode add_agent sollte genau 2 Parameter besitzen\"\n\n    assert 'self' in inspect.signature(env['Team'].contains).parameters, \"self sollte der erste Parameter der Methode contains sein\"\n    assert 'agent' in inspect.signature(env['Team'].contains).parameters, \"agent should be a parameter of contains\"\n    assert len(inspect.signature(env['Team'].contains).parameters) == 2, \"Die Methode contains sollte genau 2 Parameter besitzen\"\n    \n    assert 'self' in inspect.signature(env['Team'].remove_agent).parameters, \"self sollte der erste Parameter der Methode remove_agent sein\"\n    assert len(inspect.signature(env['Team'].remove_agent).parameters) == 1, \"Die Methode remove_agent sollte genau 1 Parameter besitzen\"\n    \n    assert 'self' in inspect.signature(env['Team'].flee).parameters, \"self sollte der erste Parameter der Methode flee sein\"\n    assert len(inspect.signature(env['Team'].flee).parameters) == 2, \"Die Methode flee sollte genau 2 Parameter besitzen\"\n    \n    assert 'self' in inspect.signature(env['Team'].__repr__).parameters, \"self sollte der erste Parameter der Methode __repr__ sein\"\n    assert len(inspect.signature(env['Team'].__repr__).parameters) == 1, \"Die Methode __repr__ sollte genau 1 Parameter besitzen\"\n    \n@test_case(points=4, hidden=False, \n    success_message=\"Das sieht gut aus.\", \n    failure_message=\"Da ist noch was nicht richtig.\")\ndef test_team__len__space(env):\n    marius = env['Agent'](\"Marius\", \"blau\")\n    paula = env['Agent'](\"Paula\", \"blau\")\n    team = env['Team']('Testteam', env['Lair'](name='lair', cap=5))\n    assert len(team) == 0, \"Ein neu erstelltes Team sollte die Größe 0 haben\"\n    assert team.space() == 5, \"Ein neu erstelltes Team mit cap=5 die Kapazität 5 haben\"\n    team.add_agent(marius)\n    assert len(team) == 1, \"Nach dem Hinzufügen eines Agenten in ein Team mit cap>0 sollte sich die Teamgröße um 1 vergrößern\"\n    assert team.space() == 4 ,\"Nach dem Hinzufügen eines Agenten in ein Team mit cap>0 sollte sich die Teamkapazität um 1 verkleinern\"\n    team.add_agent(marius)\n    assert len(team) == 1, \"Nach dem Hinzufügen eines Agenten, der schon im Team sollte sich die Teamgröße nicht verändern\"\n    assert team.space() == 4, \"Nach dem Hinzufügen eines Agenten, der schon im Team sollte sich die Teamkapazität nicht verändern\"\n    team = env['Team']('Testteam', env['Lair'](name='lair', cap=1))\n    marius = env['Agent'](\"Marius\", \"blau\")\n    team.add_agent(marius)\n    assert len(team) == 1, \"Nach dem Hinzufügen eines Agenten in ein Team mit cap>0 sollte sich die Teamgröße um 1 vergrößern\"\n    assert team.space() == 0, \"Nach dem Hinzufügen eines Agenten in ein Team mit cap>0 sollte sich die Teamkapazität um 1 verkleinern\"\n    team.add_agent(paula)\n    assert len(team) == 1, \"Nach dem Hinzufügen eines Agenten in ein volles Team sollte sich die Teamgröße nicht verändern\"\n    assert team.space() == 0, \"Nach dem Hinzufügen eines Agenten in ein volles Team sollte sich die Teamgröße nicht verändern\"\n    assert len(team.agents) == 1, \"Nach dem Hinzufügen eines Agenten in ein volles Team sollte sich die Teamgröße nicht verändern\"\n    \n@test_case(points=2, hidden=False, \n    success_message=\"Das sieht gut aus.\", \n    failure_message=\"Da ist noch was nicht richtig.\")\ndef test_team_remove_agent(env):\n    marius = env['Agent'](\"Marius\", \"blau\")\n    team = env['Team']('Testteam', env['Lair'](name='lair', cap=5))\n    team.add_agent(marius)\n    assert len(team) == 1, \"Nach dem Hinzufügen eines Agenten in ein Team mit cap>0 sollte sich die Teamgröße um 1 vergrößern\"\n    assert team.space() == 4, \"Nach dem Hinzufügen eines Agenten, der schon im Team sollte sich die Teamkapazität nicht verändern\"\n    agent = team.remove_agent()\n    assert len(team) == 0, \"Nach dem Löschen eines Agenten in ein Team mit cap>0 sollte sich die Teamgröße um 1 vergrößern\"\n    assert team.space() == 5\n    assert agent == marius\n    \n@test_case(points=1, hidden=False, \n    success_message=\"Das sieht gut aus.\", \n    failure_message=\"Da ist noch was nicht richtig.\")\ndef test_team_contains(env):\n    marius = env['Agent'](\"Marius\", \"blau\")\n    team = env['Team']('Testteam', env['Lair'](name='lair', cap=5))\n    assert not team.contains(marius)\n    team.add_agent(marius)\n    assert team.contains(marius)\n    \n@test_case(points=3, hidden=False, \n    success_message=\"Das sieht gut aus.\", \n    failure_message=\"Da ist noch was nicht richtig.\")\ndef test_team_flee(env):\n    # 2 teams\n    team1 = env['Team']('Testteam', env['Lair'](name='lair1', cap=3))\n    team2 = env['Team']('Testteam', env['Lair'](name='lair2', cap=4))\n    \n    # 7 agents\n    marius = env['Agent'](\"Marius\", \"blau\")\n    sanja = env['Agent'](\"Sanja\", \"orange\")\n\n    kalle = env['Agent'](\"Kalle\", \"chaotisch\")\n\n    team1.add_agent(marius)\n    team1.add_agent(sanja)\n    team1.add_agent(marius)\n    \n    team2.add_agent(sanja)\n    team2.add_agent(kalle)\n    \n    assert len(team1) == 2\n    assert team1.space() == 1\n    assert len(team2) == 2\n    assert team2.space() == 2\n    \n    team1.flee(team2)\n    \n    assert len(team1) == 0\n    assert team1.space() == 3\n    assert len(team2) == 3\n    assert team2.space() == 1\n\n    \n"
   }
  },
  "vscode": {
   "interpreter": {
    "hash": "881d337900756e70a76eada1facb65e60ce30b1cc249c92e2adf60a26cf555a8"
   }
  }
 },
 "nbformat": 4,
 "nbformat_minor": 4
}

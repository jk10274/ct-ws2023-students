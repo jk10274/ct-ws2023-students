{
 "cells": [
  {
   "cell_type": "code",
   "execution_count": null,
   "metadata": {
    "deletable": false,
    "editable": false
   },
   "outputs": [],
   "source": [
    "# Initialize Otter\n",
    "import otter\n",
    "grader = otter.Notebook(\"08_kontrollstrukturen.ipynb\")"
   ]
  },
  {
   "cell_type": "markdown",
   "metadata": {},
   "source": [
    "# Computational Thinking - WS 2023/2024\n",
    "\n",
    "## Kontrollstrukturen\n",
    "\n",
    "Autor: Prof. Dr.-Ing. Benedikt Dietrich"
   ]
  },
  {
   "cell_type": "markdown",
   "metadata": {},
   "source": [
    "***"
   ]
  },
  {
   "cell_type": "markdown",
   "metadata": {
    "deletable": false,
    "editable": false
   },
   "source": [
    "### Aufgabe 1 - Nullstellen\n",
    "\n",
    "Schreiben Sie ein Programm, das für gegebene Variablen a, b und c die reelle(n) Lösung(en) der Gleichung\n",
    "\n",
    "$$\n",
    "ax^2 + bx + c = 0\n",
    "$$\n",
    "\n",
    "berechnet.\n",
    "\n",
    "Verwenden Sie hierfür die Mitternachtsformel:\n",
    "\n",
    "$$\n",
    "x_{1,2} = \\frac{-b \\pm \\sqrt{b^2 - 4ac}}{2a}\n",
    "$$\n",
    "\n",
    "Das Ergebnis soll (abhängig von der Anzahl an Nullstellen) wie folgt ausgegeben werden:\n",
    "\n",
    "```text\n",
    "    Die Gleichung hat keine Nullstellen.\n",
    "```\n",
    "\n",
    "```text\n",
    "    Die Gleichung hat eine Nullstelle an der Stelle 2.\n",
    "```\n",
    "\n",
    "```text\n",
    "    Die Gleichung hat zwei Nullstellen.\n",
    "    Die erste Nullstelle ist an der Stelle 1.\n",
    "    Die zweite Nullstelle ist an der Stelle 4.\n",
    "```"
   ]
  },
  {
   "cell_type": "code",
   "execution_count": null,
   "metadata": {},
   "outputs": [],
   "source": []
  },
  {
   "cell_type": "markdown",
   "metadata": {
    "deletable": false,
    "editable": false
   },
   "source": [
    "Hinweis: Die Wurzel aus einer Zahl kann mit Hilfe der Funktion `sqrt` berechnet werden. Die Funktion ist Teil des `math`-Moduls und muss daher zunächst mit folgendem Befehl importiert werden:"
   ]
  },
  {
   "cell_type": "markdown",
   "metadata": {},
   "source": [
    "![Screenshot 2023-11-01 at 19.28.56.png](https://raw.githubusercontent.com/local-archive/documents/main/Screenshot%202023-11-01%20at%2019.28.56.png)"
   ]
  },
  {
   "cell_type": "code",
   "execution_count": null,
   "metadata": {
    "deletable": false,
    "editable": false
   },
   "outputs": [],
   "source": [
    "from math import sqrt\n",
    "print(sqrt(2))"
   ]
  },
  {
   "cell_type": "code",
   "execution_count": 8,
   "metadata": {
    "tags": []
   },
   "outputs": [
    {
     "name": "stdout",
     "output_type": "stream",
     "text": [
      "1.0\n",
      "Die Gleichung hat zwei Nullstellen.\n",
      "Die erste Nullstelle ist an der Stelle: 1.0\n",
      "Die zweite Nullstelle ist an der Stelle: -2.5\n"
     ]
    }
   ],
   "source": [
    "from math import sqrt # Für die Berechnung der Wurzel\n",
    "a = 1 #2\n",
    "b = 4 #3\n",
    "c = 3 #-5\n",
    "\n",
    "ergebnis = (-b + sqrt(b**2 - 4*a*c)) / (2*a)\n",
    "print(ergebnis)\n",
    "\n",
    "if ergebnis > 0:\n",
    "    print(\"Die Gleichung hat zwei Nullstellen.\")\n",
    "    print(f\"Die erste Nullstelle ist an der Stelle: { ergebnis }\")\n",
    "    # Berechnung der zweiten Nullstelle\n",
    "    ergebnis2 = (-b - sqrt(b**2 - 4*a*c)) / (2*a)\n",
    "    print(f\"Die zweite Nullstelle ist an der Stelle: { ergebnis2 }\")\n",
    "elif ergebnis == 0:\n",
    "    print(\"Die Gleichung hat eine Nullstelle an der Stelle\", ergebnis)\n",
    "else: \n",
    "    print(\"Die Gleichung hat keine Nullstellen.\")"
   ]
  },
  {
   "cell_type": "markdown",
   "metadata": {},
   "source": [
    "***"
   ]
  },
  {
   "cell_type": "markdown",
   "metadata": {
    "deletable": false,
    "editable": false
   },
   "source": [
    "### Aufgabe 2 - Würfelreihe\n",
    "\n",
    "Schreiben Sie ein Programm, dass so lange würfelt, bis 6 geworfen wird. \n",
    "\n",
    "Das Programm soll am Ende, die Anzahl an Würfen in folgendem Format ausgeben:\n",
    "\n",
    "```text\n",
    "    Es wurde 5 Mal gewürfelt, bis die erste 6 kam.\n",
    "```"
   ]
  },
  {
   "cell_type": "code",
   "execution_count": 11,
   "metadata": {
    "tags": []
   },
   "outputs": [
    {
     "name": "stdout",
     "output_type": "stream",
     "text": [
      "Es wurde 20 Mal gewürfelt, bis die erste 6 kam.\n"
     ]
    }
   ],
   "source": [
    "from random import randrange\n",
    "\n",
    "zähler = 0\n",
    "ist_sechs = False\n",
    "while not ist_sechs:\n",
    "    zufallszahl = randrange(1, 7)\n",
    "    zähler += 1\n",
    "    if zufallszahl == 6:\n",
    "        ist_sechs = True\n",
    "\n",
    "print(f\"Es wurde { zähler } Mal gewürfelt, bis die erste 6 kam.\")"
   ]
  },
  {
   "cell_type": "markdown",
   "metadata": {
    "deletable": false,
    "editable": false
   },
   "source": [
    "### Aufgabe 3 - Punkt und Strich\n",
    "\n",
    "Schreiben Sie ein Programm, das mit Hilfe von zwei verschachtelten while-Schleifen folgendes ausgibt:\n",
    "\n",
    "```text\n",
    "    ---------\n",
    "    ---------\n",
    "    ---------\n",
    "    ---------\n",
    "    ----*----\n",
    "    ---------\n",
    "    ---------\n",
    "    ---------\n",
    "    ---------\n",
    "```\n",
    "\n",
    "* Die innere Schleife soll die jeweils einzelne Striche oder den Stern ausgeben (Spaltenzahl).\n",
    "* Die äußere Schleife iteriert über die Zeilen (Zeilenzahl).\n",
    "\n",
    "*Hinweis:* Um in Python ein einzelnes Zeichen ohne Zeilenumbruch auszugeben, müssen Sie bei der Print-Anweisung das `end`-Zeichen auf einen leeren String setzen:\n",
    "\n",
    "```python\n",
    "    print(\"Hello, world!\", end=\"\")\n",
    "```"
   ]
  },
  {
   "cell_type": "code",
   "execution_count": 3,
   "metadata": {
    "tags": []
   },
   "outputs": [
    {
     "name": "stdout",
     "output_type": "stream",
     "text": [
      "---------\n",
      "---------\n",
      "---------\n",
      "---------\n",
      "----*----\n",
      "---------\n",
      "---------\n",
      "---------\n",
      "---------\n"
     ]
    }
   ],
   "source": [
    "Spalten = 9\n",
    "Zeilen = 9\n",
    "\n",
    "while Zeilen > 0:\n",
    "    while Spalten > 0:\n",
    "        if Spalten == 5 and Zeilen == 5:\n",
    "            print(\"*\", end=\"\")\n",
    "        else:\n",
    "            print(\"-\", end=\"\")\n",
    "        Spalten -= 1\n",
    "    print()\n",
    "    Zeilen -= 1\n",
    "    Spalten = 9"
   ]
  },
  {
   "cell_type": "markdown",
   "metadata": {},
   "source": [
    "***"
   ]
  },
  {
   "cell_type": "markdown",
   "metadata": {
    "deletable": false,
    "editable": false
   },
   "source": [
    "### Aufgabe 4 - Punkt, Strich, for\n",
    "\n",
    "Schreiben Sie das Programm aus Aufgabe 3 um und ersetzen Sie die `while`-Schleifen durch `for`-Schleifen in Kombination mit der `range`-Funktion."
   ]
  },
  {
   "cell_type": "code",
   "execution_count": 5,
   "metadata": {
    "tags": []
   },
   "outputs": [
    {
     "name": "stdout",
     "output_type": "stream",
     "text": [
      "---------\n",
      "---------\n",
      "---------\n",
      "---------\n",
      "----*----\n",
      "---------\n",
      "---------\n",
      "---------\n",
      "---------\n"
     ]
    }
   ],
   "source": [
    "Zeilen = 9\n",
    "Spalten = 9\n",
    "\n",
    "for Zeile in range(Zeilen):\n",
    "    for Spalte in range(Spalten):\n",
    "        if Spalte == (5-1) and Zeile == (5-1):\n",
    "            print(\"*\", end=\"\")\n",
    "        else:\n",
    "            print(\"-\", end=\"\")\n",
    "    print()"
   ]
  },
  {
   "cell_type": "markdown",
   "metadata": {},
   "source": [
    "***"
   ]
  },
  {
   "cell_type": "markdown",
   "metadata": {
    "deletable": false,
    "editable": false
   },
   "source": [
    "### Aufgabe 5 - Buchstabensuche\n",
    "\n",
    "Folgendes Programm sucht in einem String namens `text` die erste Stelle, an der der Buchstabe `search` vorkommt. \n",
    "\n",
    "Ändern Sie das Program so ab, dass es nicht unnötig im String weitersucht, wenn der Buchstabe schon gefunden wurde."
   ]
  },
  {
   "cell_type": "code",
   "execution_count": 1,
   "metadata": {
    "tags": []
   },
   "outputs": [
    {
     "name": "stdout",
     "output_type": "stream",
     "text": [
      "Die erste Stelle an der m vorkommt ist Postion 9\n"
     ]
    }
   ],
   "source": [
    "text = \"Dies ist mein toller Text\"\n",
    "search = \"m\"\n",
    "\n",
    "for i, letter in enumerate(text):\n",
    "    if letter == search:\n",
    "        print(f\"Die erste Stelle an der {search} vorkommt ist Postion {i}\")\n",
    "        break"
   ]
  }
 ],
 "metadata": {
  "kernelspec": {
   "display_name": "Python 3",
   "language": "python",
   "name": "python3"
  },
  "language_info": {
   "codemirror_mode": {
    "name": "ipython",
    "version": 3
   },
   "file_extension": ".py",
   "mimetype": "text/x-python",
   "name": "python",
   "nbconvert_exporter": "python",
   "pygments_lexer": "ipython3",
   "version": "3.11.5"
  },
  "otter": {
   "OK_FORMAT": true,
   "assignment_name": "08_kontrollstrukturen",
   "tests": {}
  }
 },
 "nbformat": 4,
 "nbformat_minor": 2
}

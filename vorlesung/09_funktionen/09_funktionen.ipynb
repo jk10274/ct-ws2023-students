{
 "cells": [
  {
   "cell_type": "code",
   "execution_count": null,
   "metadata": {
    "deletable": false,
    "editable": false
   },
   "outputs": [],
   "source": [
    "# Initialize Otter\n",
    "import otter\n",
    "grader = otter.Notebook(\"09_funktionen.ipynb\")"
   ]
  },
  {
   "cell_type": "markdown",
   "metadata": {},
   "source": [
    "# Computational Thinking - WS 2023/2024\n",
    "\n",
    "## Funktionen\n",
    "\n",
    "Autor: Prof. Dr.-Ing. Benedikt Dietrich"
   ]
  },
  {
   "cell_type": "markdown",
   "metadata": {},
   "source": [
    "***"
   ]
  },
  {
   "cell_type": "markdown",
   "metadata": {
    "deletable": false,
    "editable": false
   },
   "source": [
    "### Aufgabe 1 - Funktionsrätsel\n",
    "\n",
    "Für ein Set an Funktionen ist ein nicht besonders ausführlicher Docstring gegeben. Finden Sie durch geeignete Aufrufe heraus, was die Funktionen machen.\n",
    "\n",
    "*Hinweis:* Die Funktion `help` liefert den Docstring einer Funktion als String zurück. Das erste Beispiel zeigt, wie help genutzt werden kann, um den Docstring auszugeben."
   ]
  },
  {
   "cell_type": "code",
   "execution_count": 9,
   "metadata": {
    "tags": []
   },
   "outputs": [
    {
     "name": "stdout",
     "output_type": "stream",
     "text": [
      "Help on function function1 in module custom_functions:\n",
      "\n",
      "function1()\n",
      "    This function does something.\n",
      "    \n",
      "    Parameters:\n",
      "        None\n",
      "    \n",
      "    Returns:\n",
      "        (int): a value\n",
      "\n",
      "None\n",
      "5\n"
     ]
    }
   ],
   "source": [
    "from custom_functions import function1\n",
    "\n",
    "print(help(function1))\n",
    "\n",
    "print(function1())\n",
    "\n",
    "# Gibt den Wert 5 zurück"
   ]
  },
  {
   "cell_type": "code",
   "execution_count": 8,
   "metadata": {
    "tags": []
   },
   "outputs": [
    {
     "name": "stdout",
     "output_type": "stream",
     "text": [
      "Help on function function2 in module custom_functions:\n",
      "\n",
      "function2(n)\n",
      "    This function does something.\n",
      "    \n",
      "    Parameters:\n",
      "        n (int): unsigned integer\n",
      "    \n",
      "    Returns: \n",
      "        None\n",
      "\n",
      "None\n",
      "-----None\n"
     ]
    }
   ],
   "source": [
    "from custom_functions import function2\n",
    "\n",
    "print(help(function2))\n",
    "\n",
    "print(function2(5))\n",
    "\n",
    "# Gibt \"-\" für die Anzahl des Parameters aus\n"
   ]
  },
  {
   "cell_type": "code",
   "execution_count": 5,
   "metadata": {
    "tags": []
   },
   "outputs": [
    {
     "name": "stdout",
     "output_type": "stream",
     "text": [
      "Help on function function3 in module custom_functions:\n",
      "\n",
      "function3(a)\n",
      "    This function does something.\n",
      "    \n",
      "    Parameters:\n",
      "        a (int): integer\n",
      "    \n",
      "    Returns:\n",
      "        (int): result\n",
      "\n",
      "None\n",
      "4\n"
     ]
    }
   ],
   "source": [
    "from custom_functions import function3\n",
    "\n",
    "print(help(function3))\n",
    "print(function3(2))\n",
    "\n",
    "# Multipliziert Parameter n mit 2\n"
   ]
  },
  {
   "cell_type": "code",
   "execution_count": 11,
   "metadata": {
    "tags": []
   },
   "outputs": [
    {
     "name": "stdout",
     "output_type": "stream",
     "text": [
      "Help on function function4 in module custom_functions:\n",
      "\n",
      "function4(a, b)\n",
      "    This function does something.\n",
      "    \n",
      "    Parameters:\n",
      "        a (int): integer\n",
      "        b (int): another integer\n",
      "    \n",
      "    Returns:\n",
      "        (int): result\n",
      "\n",
      "None\n",
      "6\n"
     ]
    }
   ],
   "source": [
    "from custom_functions import function4\n",
    "print(help(function4))\n",
    "\n",
    "print(function4(2, 3))\n",
    "\n",
    "# Multipliziert beide Parameter"
   ]
  },
  {
   "cell_type": "code",
   "execution_count": 14,
   "metadata": {
    "tags": []
   },
   "outputs": [
    {
     "name": "stdout",
     "output_type": "stream",
     "text": [
      "Help on function function5 in module custom_functions:\n",
      "\n",
      "function5()\n",
      "    This function does something.\n",
      "    \n",
      "    Parameters:\n",
      "        None\n",
      "    \n",
      "    Returns:\n",
      "        (int): result\n",
      "\n",
      "None\n",
      "2\n"
     ]
    }
   ],
   "source": [
    "from custom_functions import function5\n",
    "\n",
    "print(help(function5))\n",
    "\n",
    "print(function5())\n",
    "\n",
    "# Zählt die Ausführungen der Funktion hoch"
   ]
  },
  {
   "cell_type": "code",
   "execution_count": 4,
   "metadata": {
    "tags": []
   },
   "outputs": [
    {
     "name": "stdout",
     "output_type": "stream",
     "text": [
      "Help on function function6 in module custom_functions:\n",
      "\n",
      "function6(text)\n",
      "    This function does something.\n",
      "    \n",
      "    Parameters:\n",
      "        text (String): A string\n",
      "    \n",
      "    Returns:\n",
      "        (String): result\n",
      "\n",
      "None\n",
      "ABCDEFGhijklmonpqrstuvwxyz ABCDEFG ABCDEFG\n"
     ]
    }
   ],
   "source": [
    "from custom_functions import function6\n",
    "\n",
    "print(help(function6))\n",
    "\n",
    "print(function6(\"abcdefghijklmonpqrstuvwxyz abcdefg abcdefg\"))\n",
    "\n",
    "# Verwandelt Buchstaben die 2 oder mehrmals vorkommen in Großbuchstaben\n"
   ]
  },
  {
   "cell_type": "markdown",
   "metadata": {
    "deletable": false,
    "editable": false
   },
   "source": [
    "### Aufgabe 2 - Rechteckfunktion\n",
    "\n",
    "Gegeben ist der zu Beginn der Vorlesung besprochenen Code. Vereinfachen Sie diesen Code mit Hilfe einer Funktion. Überlegen Sie sich hierfür zu erst \n",
    "\n",
    "* einen passenden Namen für die Funktion\n",
    "* welche Übergabeparameter notwendig sind \n",
    "* die Namen der Übergabeparameter\n",
    "* was die Funktion zurückliefern soll\n",
    "\n",
    "Programmieren Sie dann die Funktion und die Funktionsaufrufe zusammen in einer eigenen Zelle, sodass der neue Code die gleiche Funktionalität mit Hilfe der Funktion löst."
   ]
  },
  {
   "cell_type": "code",
   "execution_count": 1,
   "metadata": {
    "tags": []
   },
   "outputs": [
    {
     "name": "stdout",
     "output_type": "stream",
     "text": [
      "Kantenlängen: 4 und 10. Fläche: 40. Umfang: 28\n",
      "Kantenlängen: 2 und 5. Fläche: 10. Umfang: 14\n",
      "Kantenlängen: 3 und 8. Fläche: 24. Umfang: 22\n"
     ]
    }
   ],
   "source": [
    "a1 = 4\n",
    "b1 = 10\n",
    "area_rectangle1 = a1 * b1\n",
    "circumference1 = 2 * a1 + 2 * b1\n",
    "print(f\"Kantenlängen: {a1} und {b1}. Fläche: {area_rectangle1}. Umfang: {circumference1}\")\n",
    "\n",
    "a2 = 2\n",
    "b2 = 5\n",
    "area_rectangle2 = a2 * b2\n",
    "circumference2 = 2 * a2 + 2 * b2\n",
    "print(f\"Kantenlängen: {a2} und {b2}. Fläche: {area_rectangle2}. Umfang: {circumference2}\")\n",
    "\n",
    "a3 = 3\n",
    "b3 = 8\n",
    "area_rectangle3 = a3 * b3\n",
    "circumference3 = 2 * a3 + 2 * b3 \n",
    "print(f\"Kantenlängen: {a3} und {b3}. Fläche: {area_rectangle3}. Umfang: {circumference3}\")"
   ]
  },
  {
   "cell_type": "code",
   "execution_count": null,
   "metadata": {
    "tags": []
   },
   "outputs": [],
   "source": [
    "# Funktion, welche den Umfang und die Fläche eines Rechtecks berechnet\n",
    "def rectangle(a, b):\n",
    "    area_rectangle = a * b\n",
    "    circumference = 2 * a + 2 * b\n",
    "    return f\"Kantenlängen: {a} und {b}. Fläche: {area_rectangle}. Umfang: {circumference}\"\n",
    "\n",
    "print(rectangle(4, 10))\n",
    "print(rectangle(2, 5))\n",
    "print(rectangle(3, 8))"
   ]
  },
  {
   "cell_type": "markdown",
   "metadata": {},
   "source": [
    "***"
   ]
  },
  {
   "cell_type": "markdown",
   "metadata": {
    "deletable": false,
    "editable": false
   },
   "source": [
    "### Aufgabe 3 - Zeichen um Zeichen\n",
    "\n",
    "Schreiben Sie eine Funktion namens `print_characters`, die ein gewünschtes Zeichen n-Mal ausgibt.\n",
    "\n",
    "* Wird die Funktion ohne Parameter aufgerufen, soll die Funktion 5 Mal das Zeichen `#` ausgeben.\n",
    "* Wir die Funktion nur mit einem Parameter `n` aufgerufen, soll die Funktion das Zeichen `#` n-Mal ausgeben.\n",
    "* Wird die Funktion mit einem Parameter `n` und einem Parameter `c` aufgerufen, soll die Funktion das Zeichen `c` `n`-Mal ausgeben.\n",
    "\n",
    "Nutzen Sie in Ihrer Implementierung Default-Parameter."
   ]
  },
  {
   "cell_type": "code",
   "execution_count": 2,
   "metadata": {
    "tags": []
   },
   "outputs": [
    {
     "name": "stdout",
     "output_type": "stream",
     "text": [
      "#####\n",
      "##\n",
      "bbb\n"
     ]
    }
   ],
   "source": [
    "def print_characters(n=5, character=\"#\"):\n",
    "    print(n * character)\n",
    "\n",
    "print_characters()       # Soll ##### ausgeben\n",
    "print_characters(2)      # Soll ## ausgeben\n",
    "print_characters(3, \"b\") # Soll bbb ausgeben"
   ]
  },
  {
   "cell_type": "markdown",
   "metadata": {},
   "source": [
    "***"
   ]
  },
  {
   "cell_type": "markdown",
   "metadata": {},
   "source": [
    "### Aufgabe 4 - Ich zähle jetzt bis drei...\n",
    "\n",
    "Lesen Sie sich den Docstring der Funktion `range()` durch und erzeugen Sie mit Hilfe der `range()`-Funktion die unten gewünschten Zahlenfolgen.\n",
    "\n",
    "*Hinweis:* Mit voranstellen des `*` können Sie die Liste entpacken und dann den Inhalt mit `print` ausgeben, wie folgendes Beispiel zeigt."
   ]
  },
  {
   "cell_type": "code",
   "execution_count": 4,
   "metadata": {},
   "outputs": [
    {
     "name": "stdout",
     "output_type": "stream",
     "text": [
      "0 1 2 3 4\n",
      "Help on class range in module builtins:\n",
      "\n",
      "class range(object)\n",
      " |  range(stop) -> range object\n",
      " |  range(start, stop[, step]) -> range object\n",
      " |  \n",
      " |  Return an object that produces a sequence of integers from start (inclusive)\n",
      " |  to stop (exclusive) by step.  range(i, j) produces i, i+1, i+2, ..., j-1.\n",
      " |  start defaults to 0, and stop is omitted!  range(4) produces 0, 1, 2, 3.\n",
      " |  These are exactly the valid indices for a list of 4 elements.\n",
      " |  When step is given, it specifies the increment (or decrement).\n",
      " |  \n",
      " |  Methods defined here:\n",
      " |  \n",
      " |  __bool__(self, /)\n",
      " |      True if self else False\n",
      " |  \n",
      " |  __contains__(self, key, /)\n",
      " |      Return key in self.\n",
      " |  \n",
      " |  __eq__(self, value, /)\n",
      " |      Return self==value.\n",
      " |  \n",
      " |  __ge__(self, value, /)\n",
      " |      Return self>=value.\n",
      " |  \n",
      " |  __getattribute__(self, name, /)\n",
      " |      Return getattr(self, name).\n",
      " |  \n",
      " |  __getitem__(self, key, /)\n",
      " |      Return self[key].\n",
      " |  \n",
      " |  __gt__(self, value, /)\n",
      " |      Return self>value.\n",
      " |  \n",
      " |  __hash__(self, /)\n",
      " |      Return hash(self).\n",
      " |  \n",
      " |  __iter__(self, /)\n",
      " |      Implement iter(self).\n",
      " |  \n",
      " |  __le__(self, value, /)\n",
      " |      Return self<=value.\n",
      " |  \n",
      " |  __len__(self, /)\n",
      " |      Return len(self).\n",
      " |  \n",
      " |  __lt__(self, value, /)\n",
      " |      Return self<value.\n",
      " |  \n",
      " |  __ne__(self, value, /)\n",
      " |      Return self!=value.\n",
      " |  \n",
      " |  __reduce__(...)\n",
      " |      Helper for pickle.\n",
      " |  \n",
      " |  __repr__(self, /)\n",
      " |      Return repr(self).\n",
      " |  \n",
      " |  __reversed__(...)\n",
      " |      Return a reverse iterator.\n",
      " |  \n",
      " |  count(...)\n",
      " |      rangeobject.count(value) -> integer -- return number of occurrences of value\n",
      " |  \n",
      " |  index(...)\n",
      " |      rangeobject.index(value) -> integer -- return index of value.\n",
      " |      Raise ValueError if the value is not present.\n",
      " |  \n",
      " |  ----------------------------------------------------------------------\n",
      " |  Static methods defined here:\n",
      " |  \n",
      " |  __new__(*args, **kwargs) from builtins.type\n",
      " |      Create and return a new object.  See help(type) for accurate signature.\n",
      " |  \n",
      " |  ----------------------------------------------------------------------\n",
      " |  Data descriptors defined here:\n",
      " |  \n",
      " |  start\n",
      " |  \n",
      " |  step\n",
      " |  \n",
      " |  stop\n",
      "\n",
      "None\n"
     ]
    }
   ],
   "source": [
    "print(*range(5))\n",
    "print(help(range))"
   ]
  },
  {
   "cell_type": "code",
   "execution_count": null,
   "metadata": {
    "tags": []
   },
   "outputs": [],
   "source": [
    "# 0, 1, 2\n",
    "print(*range(0, 3))\n"
   ]
  },
  {
   "cell_type": "code",
   "execution_count": null,
   "metadata": {
    "tags": []
   },
   "outputs": [],
   "source": [
    "# 1, 2, 3, 4, 5\n",
    "print(*range(1, 6))\n"
   ]
  },
  {
   "cell_type": "code",
   "execution_count": null,
   "metadata": {
    "tags": []
   },
   "outputs": [],
   "source": [
    "# 2, 4, 6, 8, 10, 12\n",
    "print(*range(2, 13, 2))"
   ]
  },
  {
   "cell_type": "code",
   "execution_count": null,
   "metadata": {
    "tags": []
   },
   "outputs": [],
   "source": [
    "# 3, 2, 1\n",
    "print(*range(3, 0, -1))"
   ]
  }
 ],
 "metadata": {
  "kernelspec": {
   "display_name": "Python 3",
   "language": "python",
   "name": "python3"
  },
  "language_info": {
   "codemirror_mode": {
    "name": "ipython",
    "version": 3
   },
   "file_extension": ".py",
   "mimetype": "text/x-python",
   "name": "python",
   "nbconvert_exporter": "python",
   "pygments_lexer": "ipython3",
   "version": "3.11.5"
  },
  "otter": {
   "OK_FORMAT": false,
   "assignment_name": "09_funktionen",
   "tests": {}
  }
 },
 "nbformat": 4,
 "nbformat_minor": 2
}

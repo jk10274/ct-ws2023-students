{
 "cells": [
  {
   "cell_type": "code",
   "execution_count": null,
   "metadata": {
    "deletable": false,
    "editable": false
   },
   "outputs": [],
   "source": [
    "# Initialize Otter\n",
    "import otter\n",
    "grader = otter.Notebook(\"10_listen_und_tupel.ipynb\")"
   ]
  },
  {
   "cell_type": "markdown",
   "metadata": {},
   "source": [
    "# Computational Thinking - WS 2023/2024\n",
    "\n",
    "## Listen und Tupel\n",
    "\n",
    "Autor: Prof. Dr.-Ing. Benedikt Dietrich"
   ]
  },
  {
   "cell_type": "markdown",
   "metadata": {
    "deletable": false,
    "editable": false
   },
   "source": [
    "### Aufgabe 1 - Fünf Würfel\n",
    "\n",
    "Die Funktion `throw` im Modul `dice` wirft einen Würfel und gibt eine Zahl zwischen 1 und 6 zurück.\n",
    "\n",
    "Schreiben Sie ein Programm, dass den Würfel 5 mal wirft und die Würfe mit einem einzigen Befehl in folgendem Format ausgibt:\n",
    "\n",
    "```text\n",
    "    Sie haben gewürfelt: 5 3 6 3 2\n",
    "```\n",
    "\n",
    "Zusätzlich soll das Programm die durchschnittlich geworfenen Augen berechnen und ausgeben:\n",
    "\n",
    "```text\n",
    "    Ihre durchschnittliche Zahl an gewürfelten Augen beträgt: 3.8\n",
    "```\n",
    "\n",
    "*Hinweis:* Verwenden Sie zur Lösung zunächst keine Listen."
   ]
  },
  {
   "cell_type": "code",
   "execution_count": 9,
   "metadata": {
    "tags": []
   },
   "outputs": [
    {
     "name": "stdout",
     "output_type": "stream",
     "text": [
      "4 5 1 6 3 \n",
      "Durchschnitt: 3.8\n"
     ]
    }
   ],
   "source": [
    "import dice\n",
    "\n",
    "ergebnis = \"\"\n",
    "durchschnitt = 0\n",
    "for i in range(5):\n",
    "    wurf = dice.throw()\n",
    "    ergebnis = ergebnis + str(wurf) + \" \"\n",
    "    durchschnitt = durchschnitt + wurf\n",
    "\n",
    "print(ergebnis)\n",
    "print(\"Durchschnitt:\", durchschnitt/5)\n"
   ]
  },
  {
   "cell_type": "markdown",
   "metadata": {},
   "source": [
    "***"
   ]
  },
  {
   "cell_type": "markdown",
   "metadata": {
    "deletable": false,
    "editable": false
   },
   "source": [
    "### Aufgabe 2 - 1, 2 oder 3\n",
    "\n",
    "Gegeben ist eine Liste mit Zahlen. \n",
    "\n",
    "Wählen Sie mit Hilfe des Index Operators `[]` die Elemente so aus, dass die gewünschte Ausgabe erzeugt wird."
   ]
  },
  {
   "cell_type": "code",
   "execution_count": 7,
   "metadata": {
    "tags": []
   },
   "outputs": [],
   "source": [
    "liste_mit_zahlen = [1, 2, 3, 4, 5, 6, 7, 8, 9]"
   ]
  },
  {
   "cell_type": "code",
   "execution_count": 8,
   "metadata": {
    "tags": []
   },
   "outputs": [
    {
     "name": "stdout",
     "output_type": "stream",
     "text": [
      "5\n"
     ]
    }
   ],
   "source": [
    "# 5\n",
    "print(liste_mit_zahlen[4])"
   ]
  },
  {
   "cell_type": "code",
   "execution_count": 9,
   "metadata": {
    "tags": []
   },
   "outputs": [
    {
     "name": "stdout",
     "output_type": "stream",
     "text": [
      "9\n"
     ]
    }
   ],
   "source": [
    "# 9\n",
    "print(liste_mit_zahlen[8])"
   ]
  },
  {
   "cell_type": "code",
   "execution_count": 13,
   "metadata": {
    "tags": []
   },
   "outputs": [
    {
     "ename": "NameError",
     "evalue": "name 'liste_mit_zahlen' is not defined",
     "output_type": "error",
     "traceback": [
      "\u001b[0;31m---------------------------------------------------------------------------\u001b[0m",
      "\u001b[0;31mNameError\u001b[0m                                 Traceback (most recent call last)",
      "\u001b[1;32m/Users/jonakaufmann/Documents/GitHub/HM/CT/ct-ws2023-students/vorlesung/10_listen_und_tupel/10_listen_und_tupel.ipynb Cell 10\u001b[0m line \u001b[0;36m2\n\u001b[1;32m      <a href='vscode-notebook-cell:/Users/jonakaufmann/Documents/GitHub/HM/CT/ct-ws2023-students/vorlesung/10_listen_und_tupel/10_listen_und_tupel.ipynb#X12sZmlsZQ%3D%3D?line=0'>1</a>\u001b[0m \u001b[39m# 1, 2, 3\u001b[39;00m\n\u001b[0;32m----> <a href='vscode-notebook-cell:/Users/jonakaufmann/Documents/GitHub/HM/CT/ct-ws2023-students/vorlesung/10_listen_und_tupel/10_listen_und_tupel.ipynb#X12sZmlsZQ%3D%3D?line=1'>2</a>\u001b[0m \u001b[39mprint\u001b[39m(liste_mit_zahlen[\u001b[39m0\u001b[39m:\u001b[39m3\u001b[39m])\n",
      "\u001b[0;31mNameError\u001b[0m: name 'liste_mit_zahlen' is not defined"
     ]
    }
   ],
   "source": [
    "# 1, 2, 3\n",
    "print(liste_mit_zahlen[0:3])"
   ]
  },
  {
   "cell_type": "code",
   "execution_count": 12,
   "metadata": {
    "tags": []
   },
   "outputs": [
    {
     "ename": "NameError",
     "evalue": "name 'liste_mit_zahlen' is not defined",
     "output_type": "error",
     "traceback": [
      "\u001b[0;31m---------------------------------------------------------------------------\u001b[0m",
      "\u001b[0;31mNameError\u001b[0m                                 Traceback (most recent call last)",
      "\u001b[1;32m/Users/jonakaufmann/Documents/GitHub/HM/CT/ct-ws2023-students/vorlesung/10_listen_und_tupel/10_listen_und_tupel.ipynb Cell 11\u001b[0m line \u001b[0;36m2\n\u001b[1;32m      <a href='vscode-notebook-cell:/Users/jonakaufmann/Documents/GitHub/HM/CT/ct-ws2023-students/vorlesung/10_listen_und_tupel/10_listen_und_tupel.ipynb#X13sZmlsZQ%3D%3D?line=0'>1</a>\u001b[0m \u001b[39m# 4, 5, 6\u001b[39;00m\n\u001b[0;32m----> <a href='vscode-notebook-cell:/Users/jonakaufmann/Documents/GitHub/HM/CT/ct-ws2023-students/vorlesung/10_listen_und_tupel/10_listen_und_tupel.ipynb#X13sZmlsZQ%3D%3D?line=1'>2</a>\u001b[0m \u001b[39mprint\u001b[39m(liste_mit_zahlen[\u001b[39m3\u001b[39m:\u001b[39m6\u001b[39m])\n",
      "\u001b[0;31mNameError\u001b[0m: name 'liste_mit_zahlen' is not defined"
     ]
    }
   ],
   "source": [
    "# 4, 5, 6\n",
    "print(liste_mit_zahlen[3:6])"
   ]
  },
  {
   "cell_type": "code",
   "execution_count": 10,
   "metadata": {
    "tags": []
   },
   "outputs": [
    {
     "name": "stdout",
     "output_type": "stream",
     "text": [
      "[2, 4, 6, 8]\n"
     ]
    }
   ],
   "source": [
    "# 2, 4, 6, 8\n",
    "print(liste_mit_zahlen[1:8:2])"
   ]
  },
  {
   "cell_type": "markdown",
   "metadata": {},
   "source": [
    "***"
   ]
  },
  {
   "cell_type": "markdown",
   "metadata": {
    "deletable": false,
    "editable": false
   },
   "source": [
    "### Aufgabe 3 - Der Würfler\n",
    "\n",
    "Schreiben Sie eine Funktion `wuerfler()`. Die Funktion soll eine Liste mit `n` Würfelergebnissen erzeugen und diese zurückliefern. Die Anzahl `n` der gewünschten Würfelergebnisse soll der Funktion als Parameter übergeben werden. \n",
    "\n",
    "Schreiben Sie eine weitere Funktion `print_wuerfelergebnisse`, welcher die Liste übergeben werden kann. Die Funktion soll die Liste in folgendem Format ausgeben:\n",
    "\n",
    "```text\n",
    "   Wurf 1: 3\n",
    "   Wurf 2: 6\n",
    "   Wurf ...\n",
    "```\n",
    "\n",
    "Nutzen Sie für die Ausgabe `enumerate()`.\n"
   ]
  },
  {
   "cell_type": "code",
   "execution_count": null,
   "metadata": {
    "tags": []
   },
   "outputs": [],
   "source": [
    "import dice # Bibliothek dice importieren\n",
    "\n",
    "# Beispielcode, für einen Würfelwurf\n",
    "print(f\"Sie haben gewürfelt: {dice.throw()}\")\n",
    "\n",
    "def wuerfler():\n",
    "\n",
    "liste = wuerfler(42)\n",
    "print_wuerfelergebnisse(liste)"
   ]
  },
  {
   "cell_type": "markdown",
   "metadata": {
    "deletable": false,
    "editable": false
   },
   "source": [
    "### Aufgabe 4 - Comprehensions\n",
    "\n",
    "**Wichtig:** Führen Sie zunächst diese Zelle aus, die eine Liste mit 10 Würfelwürfen erzeugt"
   ]
  },
  {
   "cell_type": "markdown",
   "metadata": {
    "deletable": false,
    "editable": false
   },
   "source": [
    "Lesen und verstehen Sie nun, was folgende Programme machen. Vereinfachen Sie dann die Programme mit Hilfe von List Comprehension."
   ]
  },
  {
   "cell_type": "code",
   "execution_count": 11,
   "metadata": {
    "deletable": false,
    "editable": false
   },
   "outputs": [
    {
     "name": "stdout",
     "output_type": "stream",
     "text": [
      "[4, 4, 1, 4, 6, 6, 3, 6, 5, 5]\n"
     ]
    }
   ],
   "source": [
    "import dice\n",
    "\n",
    "\n",
    "\n",
    "numbers = [dice.throw() for i in range(10)]\n",
    "\n",
    "print(numbers)"
   ]
  },
  {
   "cell_type": "code",
   "execution_count": 11,
   "metadata": {
    "tags": []
   },
   "outputs": [
    {
     "name": "stdout",
     "output_type": "stream",
     "text": [
      "[4, 4, 4, 2, 2, 4]\n"
     ]
    }
   ],
   "source": [
    "even_numbers = []\n",
    "for i in numbers:\n",
    "    if (numbers[i] % 2 == 0):\n",
    "        even_numbers.append(numbers[i])\n",
    "\n",
    "even_numbers = [numbers[i] for i in range(len(numbers)) if numbers[i] % 2 == 0]\n",
    "\n",
    "\n",
    "print(even_numbers)"
   ]
  },
  {
   "cell_type": "code",
   "execution_count": 12,
   "metadata": {
    "tags": []
   },
   "outputs": [
    {
     "name": "stdout",
     "output_type": "stream",
     "text": [
      "[0, 0, 0, 0, 6, 6, 0, 6, 0, 0]\n"
     ]
    }
   ],
   "source": [
    "zero_or_six = []\n",
    "for i in numbers:\n",
    "    if numbers[i] == 6:\n",
    "        zero_or_six.append(6)\n",
    "    else:\n",
    "        zero_or_six.append(0)\n",
    "\n",
    "zero_or_six = [6 if numbers[i] == 6 else 0 for i in range(len(numbers))]\n",
    "\n",
    "\n",
    "print(zero_or_six)"
   ]
  }
 ],
 "metadata": {
  "kernelspec": {
   "display_name": "Python 3",
   "language": "python",
   "name": "python3"
  },
  "language_info": {
   "codemirror_mode": {
    "name": "ipython",
    "version": 3
   },
   "file_extension": ".py",
   "mimetype": "text/x-python",
   "name": "python",
   "nbconvert_exporter": "python",
   "pygments_lexer": "ipython3",
   "version": "3.11.5"
  },
  "otter": {
   "OK_FORMAT": true,
   "assignment_name": "10_listen_und_tupel",
   "tests": {}
  }
 },
 "nbformat": 4,
 "nbformat_minor": 2
}
